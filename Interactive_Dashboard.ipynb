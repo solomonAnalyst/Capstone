{
 "cells": [
  {
   "cell_type": "markdown",
   "id": "57f6af68-d211-4751-ba36-fde28f54de12",
   "metadata": {},
   "source": [
    "#  Build an Interactive Dashboard with Ploty Dash"
   ]
  },
  {
   "cell_type": "markdown",
   "id": "36f607a9-f04e-4052-9523-2b05b3d94296",
   "metadata": {},
   "source": [
    "## Import Libraries "
   ]
  },
  {
   "cell_type": "code",
   "execution_count": 1,
   "id": "13484489-b074-4d3f-848c-7c5127b870bf",
   "metadata": {},
   "outputs": [],
   "source": [
    "import dash\n",
    "from dash import dcc, html, Input, Output\n",
    "import pandas as pd\n",
    "import plotly.express as px\n"
   ]
  },
  {
   "cell_type": "markdown",
   "id": "877844e5-ba83-42e3-a0ff-07f6ce9a11eb",
   "metadata": {},
   "source": [
    "## Load and Prepare the Dataset"
   ]
  },
  {
   "cell_type": "code",
   "execution_count": 4,
   "id": "02fffdfd-b70d-4f39-93ba-8cc777ac5d59",
   "metadata": {},
   "outputs": [
    {
     "data": {
      "text/html": [
       "<div>\n",
       "<style scoped>\n",
       "    .dataframe tbody tr th:only-of-type {\n",
       "        vertical-align: middle;\n",
       "    }\n",
       "\n",
       "    .dataframe tbody tr th {\n",
       "        vertical-align: top;\n",
       "    }\n",
       "\n",
       "    .dataframe thead th {\n",
       "        text-align: right;\n",
       "    }\n",
       "</style>\n",
       "<table border=\"1\" class=\"dataframe\">\n",
       "  <thead>\n",
       "    <tr style=\"text-align: right;\">\n",
       "      <th></th>\n",
       "      <th>Unnamed: 0</th>\n",
       "      <th>Flight Number</th>\n",
       "      <th>Launch Site</th>\n",
       "      <th>class</th>\n",
       "      <th>Payload Mass (kg)</th>\n",
       "      <th>Booster Version</th>\n",
       "      <th>Booster Version Category</th>\n",
       "    </tr>\n",
       "  </thead>\n",
       "  <tbody>\n",
       "    <tr>\n",
       "      <th>0</th>\n",
       "      <td>0</td>\n",
       "      <td>1</td>\n",
       "      <td>CCAFS LC-40</td>\n",
       "      <td>0</td>\n",
       "      <td>0.0</td>\n",
       "      <td>F9 v1.0  B0003</td>\n",
       "      <td>v1.0</td>\n",
       "    </tr>\n",
       "    <tr>\n",
       "      <th>1</th>\n",
       "      <td>1</td>\n",
       "      <td>2</td>\n",
       "      <td>CCAFS LC-40</td>\n",
       "      <td>0</td>\n",
       "      <td>0.0</td>\n",
       "      <td>F9 v1.0  B0004</td>\n",
       "      <td>v1.0</td>\n",
       "    </tr>\n",
       "    <tr>\n",
       "      <th>2</th>\n",
       "      <td>2</td>\n",
       "      <td>3</td>\n",
       "      <td>CCAFS LC-40</td>\n",
       "      <td>0</td>\n",
       "      <td>525.0</td>\n",
       "      <td>F9 v1.0  B0005</td>\n",
       "      <td>v1.0</td>\n",
       "    </tr>\n",
       "    <tr>\n",
       "      <th>3</th>\n",
       "      <td>3</td>\n",
       "      <td>4</td>\n",
       "      <td>CCAFS LC-40</td>\n",
       "      <td>0</td>\n",
       "      <td>500.0</td>\n",
       "      <td>F9 v1.0  B0006</td>\n",
       "      <td>v1.0</td>\n",
       "    </tr>\n",
       "    <tr>\n",
       "      <th>4</th>\n",
       "      <td>4</td>\n",
       "      <td>5</td>\n",
       "      <td>CCAFS LC-40</td>\n",
       "      <td>0</td>\n",
       "      <td>677.0</td>\n",
       "      <td>F9 v1.0  B0007</td>\n",
       "      <td>v1.0</td>\n",
       "    </tr>\n",
       "  </tbody>\n",
       "</table>\n",
       "</div>"
      ],
      "text/plain": [
       "   Unnamed: 0  Flight Number  Launch Site  class  Payload Mass (kg)  \\\n",
       "0           0              1  CCAFS LC-40      0                0.0   \n",
       "1           1              2  CCAFS LC-40      0                0.0   \n",
       "2           2              3  CCAFS LC-40      0              525.0   \n",
       "3           3              4  CCAFS LC-40      0              500.0   \n",
       "4           4              5  CCAFS LC-40      0              677.0   \n",
       "\n",
       "  Booster Version Booster Version Category  \n",
       "0  F9 v1.0  B0003                     v1.0  \n",
       "1  F9 v1.0  B0004                     v1.0  \n",
       "2  F9 v1.0  B0005                     v1.0  \n",
       "3  F9 v1.0  B0006                     v1.0  \n",
       "4  F9 v1.0  B0007                     v1.0  "
      ]
     },
     "execution_count": 4,
     "metadata": {},
     "output_type": "execute_result"
    }
   ],
   "source": [
    "\n",
    "import requests\n",
    "import pandas as pd\n",
    "import io\n",
    "\n",
    "# Define the URL\n",
    "URL = \"https://cf-courses-data.s3.us.cloud-object-storage.appdomain.cloud/IBM-DS0321EN-SkillsNetwork/datasets/spacex_launch_dash.csv\"\n",
    "\n",
    "# Fetch the dataset\n",
    "response = requests.get(URL)\n",
    "spacex_launch_dash_csv = io.BytesIO(response.content)\n",
    "spacex_df = pd.read_csv(spacex_launch_dash_csv)\n",
    "spacex_df.head()\n"
   ]
  },
  {
   "cell_type": "markdown",
   "id": "ca1f84b1-eb9d-46ec-b0d1-29fb875dd981",
   "metadata": {},
   "source": [
    "## Initialize Dash App\n"
   ]
  },
  {
   "cell_type": "code",
   "execution_count": 7,
   "id": "562d5bb5-70e4-46f9-b6c1-b728ca0251ed",
   "metadata": {},
   "outputs": [],
   "source": [
    "app = dash.Dash(__name__)\n",
    "app.title = \"SpaceX Launch Dashboard\"\n"
   ]
  },
  {
   "cell_type": "markdown",
   "id": "ab6f057f-61a4-4aaf-a3c9-0153ae3b9bad",
   "metadata": {},
   "source": [
    "##  Build the App Layout"
   ]
  },
  {
   "cell_type": "markdown",
   "id": "a50477d4-36cb-4922-b1e2-eb2faf9179e1",
   "metadata": {},
   "source": [
    "### TASK 1: Add a Launch Site Dropdown Input Component"
   ]
  },
  {
   "cell_type": "code",
   "execution_count": 8,
   "id": "64570d6a-0584-4bc5-9b16-f2601ad5517b",
   "metadata": {},
   "outputs": [],
   "source": [
    "app.layout = html.Div([\n",
    "    html.H1(\"SpaceX Launch Records Dashboard\", style={'textAlign': 'center'}),\n",
    "    # Dropdown for Launch Sites\n",
    "    dcc.Dropdown(\n",
    "        id='site-dropdown',\n",
    "        options=[\n",
    "            {'label': 'All Sites', 'value': 'ALL'},\n",
    "            *[{'label': site, 'value': site} for site in spacex_df['Launch Site'].unique()]\n",
    "        ],\n",
    "        value='ALL',\n",
    "        placeholder=\"Select a Launch Site\",\n",
    "        searchable=True\n",
    "    ),\n",
    "    html.Br(),\n",
    "    # Pie chart\n",
    "    html.Div(dcc.Graph(id='success-pie-chart')),\n",
    "    html.Br(),\n",
    "    # Payload range slider\n",
    "    html.P(\"Payload range (Kg):\"),\n",
    "    dcc.RangeSlider(\n",
    "        id='payload-slider',\n",
    "        min=min_payload,\n",
    "        max=max_payload,\n",
    "        step=1000,\n",
    "        marks={i: f'{i}' for i in range(int(min_payload), int(max_payload) + 1, 1000)},\n",
    "        value=[min_payload, max_payload]\n",
    "    ),\n",
    "    # Scatter plot\n",
    "    html.Div(dcc.Graph(id='success-payload-scatter-chart')),\n",
    "])\n"
   ]
  },
  {
   "cell_type": "markdown",
   "id": "f313aa94-58bf-4564-9bba-9aa4224ceee6",
   "metadata": {},
   "source": [
    "## Add Callback Functions"
   ]
  },
  {
   "cell_type": "markdown",
   "id": "fd0a37f2-4029-4f37-9592-7cd62b676614",
   "metadata": {},
   "source": [
    "This callback updates the pie chart based on the dropdown value:"
   ]
  },
  {
   "cell_type": "code",
   "execution_count": 9,
   "id": "0feaf196-762b-44e6-9215-d79b1323bed3",
   "metadata": {},
   "outputs": [],
   "source": [
    "@app.callback(\n",
    "    Output('success-pie-chart', 'figure'),\n",
    "    Input('site-dropdown', 'value')\n",
    ")\n",
    "def update_pie_chart(selected_site):\n",
    "    if selected_site == 'ALL':\n",
    "        fig = px.pie(\n",
    "            spacex_df, \n",
    "            names='Launch Site', \n",
    "            values='class', \n",
    "            title='Total Success Launches for All Sites'\n",
    "        )\n",
    "    else:\n",
    "        filtered_df = spacex_df[spacex_df['Launch Site'] == selected_site]\n",
    "        fig = px.pie(\n",
    "            filtered_df, \n",
    "            names='class', \n",
    "            title=f\"Total Success Launches for {selected_site}\"\n",
    "        )\n",
    "    return fig\n"
   ]
  },
  {
   "cell_type": "markdown",
   "id": "e1357c69-56c7-4c8e-98c1-70c947a57c39",
   "metadata": {},
   "source": [
    "### TASK 4: Render Success-Payload-Scatter-Chart"
   ]
  },
  {
   "cell_type": "code",
   "execution_count": 10,
   "id": "39d9a0f3-7ec9-4fd9-ae1d-3ad41237edbd",
   "metadata": {},
   "outputs": [],
   "source": [
    "@app.callback(\n",
    "    Output('success-payload-scatter-chart', 'figure'),\n",
    "    [Input('site-dropdown', 'value'), \n",
    "     Input('payload-slider', 'value')]\n",
    ")\n",
    "def update_scatter_chart(selected_site, payload_range):\n",
    "    low, high = payload_range\n",
    "    filtered_df = spacex_df[\n",
    "        (spacex_df['Payload Mass (kg)'] >= low) & \n",
    "        (spacex_df['Payload Mass (kg)'] <= high)\n",
    "    ]\n",
    "    if selected_site == 'ALL':\n",
    "        fig = px.scatter(\n",
    "            filtered_df, \n",
    "            x='Payload Mass (kg)', \n",
    "            y='class', \n",
    "            color='Booster Version Category',\n",
    "            title='Payload vs. Outcome for All Sites'\n",
    "        )\n",
    "    else:\n",
    "        filtered_df = filtered_df[filtered_df['Launch Site'] == selected_site]\n",
    "        fig = px.scatter(\n",
    "            filtered_df, \n",
    "            x='Payload Mass (kg)', \n",
    "            y='class', \n",
    "            color='Booster Version Category',\n",
    "            title=f\"Payload vs. Outcome for {selected_site}\"\n",
    "        )\n",
    "    return fig\n"
   ]
  },
  {
   "cell_type": "markdown",
   "id": "c76852f3-2ff5-4780-8723-3770e77214c3",
   "metadata": {},
   "source": [
    "## Run the Dash application:"
   ]
  },
  {
   "cell_type": "code",
   "execution_count": 11,
   "id": "00db7105-a354-4e0c-b064-8416b15e8ca4",
   "metadata": {},
   "outputs": [
    {
     "data": {
      "text/html": [
       "\n",
       "        <iframe\n",
       "            width=\"100%\"\n",
       "            height=\"650\"\n",
       "            src=\"http://127.0.0.1:8050/\"\n",
       "            frameborder=\"0\"\n",
       "            allowfullscreen\n",
       "            \n",
       "        ></iframe>\n",
       "        "
      ],
      "text/plain": [
       "<IPython.lib.display.IFrame at 0x2df3e826ed0>"
      ]
     },
     "metadata": {},
     "output_type": "display_data"
    }
   ],
   "source": [
    "if __name__ == '__main__':\n",
    "    app.run_server(debug=True)\n"
   ]
  },
  {
   "cell_type": "code",
   "execution_count": null,
   "id": "cb3be4fe-a1a0-4d56-bd10-f7c977f40a12",
   "metadata": {},
   "outputs": [],
   "source": []
  }
 ],
 "metadata": {
  "kernelspec": {
   "display_name": "Python 3 (ipykernel)",
   "language": "python",
   "name": "python3"
  },
  "language_info": {
   "codemirror_mode": {
    "name": "ipython",
    "version": 3
   },
   "file_extension": ".py",
   "mimetype": "text/x-python",
   "name": "python",
   "nbconvert_exporter": "python",
   "pygments_lexer": "ipython3",
   "version": "3.11.4"
  }
 },
 "nbformat": 4,
 "nbformat_minor": 5
}
