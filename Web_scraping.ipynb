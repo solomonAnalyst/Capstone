{
 "cells": [
  {
   "cell_type": "markdown",
   "id": "aa2f399e-e434-4fb5-9498-912e98762e09",
   "metadata": {},
   "source": [
    "# Space X Falcon 9 First Stage Landing Prediction"
   ]
  },
  {
   "cell_type": "markdown",
   "id": "8fa88276-8798-4afe-9d77-ce2cb6e8f2ab",
   "metadata": {},
   "source": [
    "### Web scraping Falcon 9 and Falcon Heavy Launches Records from Wikipedia¶"
   ]
  },
  {
   "cell_type": "markdown",
   "id": "3fae6259-5217-426d-8809-592d1aeee520",
   "metadata": {},
   "source": [
    "## import required packages"
   ]
  },
  {
   "cell_type": "code",
   "execution_count": 1,
   "id": "7147a59a-e511-4b53-bfce-cab902698ecf",
   "metadata": {},
   "outputs": [],
   "source": [
    "import requests\n",
    "from bs4 import BeautifulSoup\n",
    "import pandas as pd\n",
    "import unicodedata\n"
   ]
  },
  {
   "cell_type": "markdown",
   "id": "71a5d6c8-0001-45ef-ac73-71dc5e765887",
   "metadata": {},
   "source": [
    "## Fetch the HTML Page"
   ]
  },
  {
   "cell_type": "markdown",
   "id": "72c8625b-3386-4d55-8578-499be8595e7a",
   "metadata": {},
   "source": [
    "Use the static Wikipedia URL to fetch the page."
   ]
  },
  {
   "cell_type": "code",
   "execution_count": 2,
   "id": "05f4e121-a2bc-49d9-a326-ef3b5182dcce",
   "metadata": {},
   "outputs": [
    {
     "name": "stdout",
     "output_type": "stream",
     "text": [
      "List of Falcon 9 and Falcon Heavy launches - Wikipedia\n"
     ]
    }
   ],
   "source": [
    "static_url = \"https://en.wikipedia.org/w/index.php?title=List_of_Falcon_9_and_Falcon_Heavy_launches&oldid=1027686922\"\n",
    "\n",
    "# Perform HTTP GET request\n",
    "response = requests.get(static_url)\n",
    "\n",
    "# Parse the response content\n",
    "soup = BeautifulSoup(response.content, \"html.parser\")\n",
    "\n",
    "# Print the page title to verify\n",
    "print(soup.title.text)\n"
   ]
  },
  {
   "cell_type": "markdown",
   "id": "bc80634f-445b-4586-b94a-6ecd8f907dd9",
   "metadata": {},
   "source": [
    "##  Extract the Target Table"
   ]
  },
  {
   "cell_type": "markdown",
   "id": "76acbae9-2192-4c43-a5b1-46f3a96652a9",
   "metadata": {},
   "source": [
    "Find all tables in the page and identify the one with the launch data."
   ]
  },
  {
   "cell_type": "code",
   "execution_count": 4,
   "id": "6fcbd369-b25b-4564-89ab-1823e7f0082d",
   "metadata": {},
   "outputs": [
    {
     "name": "stdout",
     "output_type": "stream",
     "text": [
      "<table class=\"wikitable plainrowheaders collapsible\" style=\"width: 100%;\">\n",
      "<tbody><tr>\n",
      "<th scope=\"col\">Flight No.\n",
      "</th>\n",
      "<th scope=\"col\">Date and<br/>time (<a href=\"/wiki/Coordinated_Universal_Time\" title=\"Coordinated Universal Time\">UTC</a>)\n",
      "</th>\n",
      "<th scope=\"col\"><a href=\"/wiki/List_of_Falcon_9_first-stage_boosters\" title=\"List of Falcon 9 first-stage boosters\">Version,<br/>Booster</a><sup class=\"reference\" id=\"cite_ref-booster_11-2\"><a href=\"#cite_note-booster-11\"><span class=\"cite-bracket\">[</span>b<span class=\"cite-bracket\">]</span></a></sup>\n",
      "</th>\n",
      "<th scope=\"col\">Launch site\n",
      "</th>\n",
      "<th scope=\"col\">Payload<sup class=\"reference\" id=\"cite_ref-Dragon_12-2\"><a href=\"#cite_note-Dragon-12\"><span class=\"cite-bracket\">[</span>c<span class=\"cite-bracket\">]</span></a></sup>\n",
      "</th>\n",
      "<th scope=\"col\">Payload mass\n",
      "</th>\n",
      "<th scope=\"col\">Orbit\n",
      "</th>\n",
      "<th scope=\"col\">Customer\n",
      "</th>\n",
      "<th scope=\"col\">Launch<br/>outcome\n",
      "</th>\n",
      "<th scope=\"col\"><a href=\"/wiki/Falcon_9_first-stage_landing_tests\" title=\"Falcon 9 first-stage landing tests\">Booster<br/>landing</a>\n",
      "</th></tr>\n",
      "<tr>\n",
      "<th rowspan=\"2\" scope=\"row\" style=\"text-align:center;\">14\n",
      "</th>\n",
      "<td>10 January 2015,<br/>09:47<sup class=\"reference\" id=\"cite_ref-nasa20150107_74-0\"><a href=\"#cite_note-nasa20150107-74\"><span class=\"cite-bracket\">[</span>67<span class=\"cite-bracket\">]</span></a></sup>\n",
      "</td>\n",
      "<td><a href=\"/wiki/Falcon_9_v1.1\" title=\"Falcon 9 v1.1\">F9 v1.1</a><br/>B1012<sup class=\"reference\" id=\"cite_ref-block_numbers_14-8\"><a href=\"#cite_note-block_numbers-14\"><span class=\"cite-bracket\">[</span>8<span class=\"cite-bracket\">]</span></a></sup>\n",
      "</td>\n",
      "<td><a href=\"/wiki/Cape_Canaveral_Space_Force_Station\" title=\"Cape Canaveral Space Force Station\">Cape Canaveral</a>,<br/><a href=\"/wiki/Cape_Canaveral_Space_Launch_Complex_40\" title=\"Cape Canaveral Space Launch Complex 40\">LC-40</a>\n",
      "</td>\n",
      "<td><a href=\"/wiki/SpaceX_CRS-5\" title=\"SpaceX CRS-5\">SpaceX CRS-5</a><sup class=\"reference\" id=\"cite_ref-sxManifest20130731_75-0\"><a href=\"#cite_note-sxManifest20130731-75\"><span class=\"cite-bracket\">[</span>68<span class=\"cite-bracket\">]</span></a></sup><br/>(Dragon C107)\n",
      "</td>\n",
      "<td>2,395 kg (5,280 lb)<sup class=\"reference\" id=\"cite_ref-76\"><a href=\"#cite_note-76\"><span class=\"cite-bracket\">[</span>69<span class=\"cite-bracket\">]</span></a></sup>\n",
      "</td>\n",
      "<td><a class=\"mw-redirect\" href=\"/wiki/Low_Earth_Orbit\" title=\"Low Earth Orbit\">LEO</a> (<a class=\"mw-redirect\" href=\"/wiki/ISS\" title=\"ISS\">ISS</a>)\n",
      "</td>\n",
      "<td><a href=\"/wiki/NASA\" title=\"NASA\">NASA</a> (<a href=\"/wiki/Commercial_Resupply_Services\" title=\"Commercial Resupply Services\">CRS</a>)\n",
      "</td>\n",
      "<td class=\"table-success\" style=\"background: #9EFF9E; color:black; vertical-align: middle; text-align: center;\">Success<sup class=\"reference\" id=\"cite_ref-nasacrs520150110_77-0\"><a href=\"#cite_note-nasacrs520150110-77\"><span class=\"cite-bracket\">[</span>70<span class=\"cite-bracket\">]</span></a></sup>\n",
      "</td>\n",
      "<td class=\"table-failure\" style=\"background: #FFC7C7; color:black; vertical-align: middle; text-align: center;\">Failure <small><span class=\"nowrap\">(drone ship)</span></small>\n",
      "</td></tr>\n",
      "<tr>\n",
      "<td colspan=\"9\">Following second-stage separation, SpaceX attempted to <a href=\"/wiki/Falcon_9_first-stage_landing_tests\" title=\"Falcon 9 first-stage landing tests\">return</a> the first stage for the first time to a 90 m × 50 m (300 ft × 160 ft) <a class=\"mw-redirect\" href=\"/wiki/Floating_landing_platform\" title=\"Floating landing platform\">floating platform</a> — called the <a href=\"/wiki/Autonomous_spaceport_drone_ship\" title=\"Autonomous spaceport drone ship\">autonomous spaceport drone ship</a>. The test achieved many objectives and returned a large amount of data, but the <a href=\"/wiki/Grid_fin\" title=\"Grid fin\">grid-fin</a> control surfaces used for the first time for more precise reentry positioning ran out of hydraulic fluid for its control system a minute before landing, resulting in a landing crash.<sup class=\"reference\" id=\"cite_ref-sfn20150110_78-0\"><a href=\"#cite_note-sfn20150110-78\"><span class=\"cite-bracket\">[</span>71<span class=\"cite-bracket\">]</span></a></sup>\n",
      "</td></tr>\n",
      "<tr>\n",
      "<th rowspan=\"2\" scope=\"row\" style=\"text-align:center;\">15\n",
      "</th>\n",
      "<td>11 February 2015,<br/>23:03<sup class=\"reference\" id=\"cite_ref-79\"><a href=\"#cite_note-79\"><span class=\"cite-bracket\">[</span>72<span class=\"cite-bracket\">]</span></a></sup>\n",
      "</td>\n",
      "<td><a href=\"/wiki/Falcon_9_v1.1\" title=\"Falcon 9 v1.1\">F9 v1.1</a><br/>B1013<sup class=\"reference\" id=\"cite_ref-block_numbers_14-9\"><a href=\"#cite_note-block_numbers-14\"><span class=\"cite-bracket\">[</span>8<span class=\"cite-bracket\">]</span></a></sup>\n",
      "</td>\n",
      "<td><a href=\"/wiki/Cape_Canaveral_Space_Force_Station\" title=\"Cape Canaveral Space Force Station\">Cape Canaveral</a>,<br/><a href=\"/wiki/Cape_Canaveral_Space_Launch_Complex_40\" title=\"Cape Canaveral Space Launch Complex 40\">LC-40</a>\n",
      "</td>\n",
      "<td><a class=\"mw-redirect\" href=\"/wiki/DSCOVR\" title=\"DSCOVR\">DSCOVR</a><sup class=\"reference\" id=\"cite_ref-sxManifest20130731_75-1\"><a href=\"#cite_note-sxManifest20130731-75\"><span class=\"cite-bracket\">[</span>68<span class=\"cite-bracket\">]</span></a></sup><sup class=\"reference\" id=\"cite_ref-80\"><a href=\"#cite_note-80\"><span class=\"cite-bracket\">[</span>73<span class=\"cite-bracket\">]</span></a></sup>\n",
      "</td>\n",
      "<td>570 kg (1,260 lb)\n",
      "</td>\n",
      "<td><a href=\"/wiki/High_Earth_orbit\" title=\"High Earth orbit\">HEO</a><br/>(<a href=\"/wiki/Lagrange_point\" title=\"Lagrange point\">Sun–Earth L<sub>1</sub></a> insertion)\n",
      "</td>\n",
      "<td><link href=\"mw-data:TemplateStyles:r1126788409\" rel=\"mw-deduplicated-inline-style\"/><div class=\"plainlist\">\n",
      "<ul><li><a href=\"/wiki/United_States_Air_Force\" title=\"United States Air Force\">USAF</a></li>\n",
      "<li><a href=\"/wiki/NASA\" title=\"NASA\">NASA</a></li>\n",
      "<li><a class=\"mw-redirect\" href=\"/wiki/NOAA\" title=\"NOAA\">NOAA</a></li></ul>\n",
      "</div>\n",
      "</td>\n",
      "<td class=\"table-success\" style=\"background: #9EFF9E; color:black; vertical-align: middle; text-align: center;\">Success\n",
      "</td>\n",
      "<td class=\"partial table-partial\" style=\"background: #BFE; color:black; vertical-align: middle; text-align: center;\">Controlled<br/><small>(ocean)</small><sup class=\"reference\" id=\"cite_ref-ocean_landing_38-4\"><a href=\"#cite_note-ocean_landing-38\"><span class=\"cite-bracket\">[</span>d<span class=\"cite-bracket\">]</span></a></sup>\n",
      "</td></tr>\n",
      "<tr>\n",
      "<td colspan=\"9\">First launch under USAF's <a href=\"/wiki/List_of_U.S._government_and_military_acronyms#O\" title=\"List of U.S. government and military acronyms\">OSP</a> 3 launch contract.<sup class=\"reference\" id=\"cite_ref-spx20121205_81-0\"><a href=\"#cite_note-spx20121205-81\"><span class=\"cite-bracket\">[</span>74<span class=\"cite-bracket\">]</span></a></sup> First SpaceX launch to put a satellite beyond a geostationary transfer orbit, first SpaceX launch into interplanetary space, and first SpaceX launch of an American research satellite. The first stage made a test flight descent to an over-ocean landing within 10 m (33 ft) of its intended target.<sup class=\"reference\" id=\"cite_ref-MuskTweet-20150211_82-0\"><a href=\"#cite_note-MuskTweet-20150211-82\"><span class=\"cite-bracket\">[</span>75<span class=\"cite-bracket\">]</span></a></sup>\n",
      "</td></tr>\n",
      "<tr>\n",
      "<th rowspan=\"2\" scope=\"row\" style=\"text-align:center;\">16\n",
      "</th>\n",
      "<td>2 March 2015,<br/>03:50<sup class=\"reference\" id=\"cite_ref-SFN_LLog_27-3\"><a href=\"#cite_note-SFN_LLog-27\"><span class=\"cite-bracket\">[</span>21<span class=\"cite-bracket\">]</span></a></sup><sup class=\"reference\" id=\"cite_ref-patrickafmil02142015_83-0\"><a href=\"#cite_note-patrickafmil02142015-83\"><span class=\"cite-bracket\">[</span>76<span class=\"cite-bracket\">]</span></a></sup>\n",
      "</td>\n",
      "<td><a href=\"/wiki/Falcon_9_v1.1\" title=\"Falcon 9 v1.1\">F9 v1.1</a><br/>B1014<sup class=\"reference\" id=\"cite_ref-block_numbers_14-10\"><a href=\"#cite_note-block_numbers-14\"><span class=\"cite-bracket\">[</span>8<span class=\"cite-bracket\">]</span></a></sup>\n",
      "</td>\n",
      "<td><a href=\"/wiki/Cape_Canaveral_Space_Force_Station\" title=\"Cape Canaveral Space Force Station\">Cape Canaveral</a>,<br/><a href=\"/wiki/Cape_Canaveral_Space_Launch_Complex_40\" title=\"Cape Canaveral Space Launch Complex 40\">LC-40</a>\n",
      "</td>\n",
      "<td><link href=\"mw-data:TemplateStyles:r1126788409\" rel=\"mw-deduplicated-inline-style\"/><div class=\"plainlist\">\n",
      "<ul><li><a href=\"/wiki/ABS-3A\" title=\"ABS-3A\">ABS-3A</a></li>\n",
      "<li><a href=\"/wiki/Eutelsat_115_West_B\" title=\"Eutelsat 115 West B\">Eutelsat 115 West B</a><sup class=\"reference\" id=\"cite_ref-sxManifest20130731_75-2\"><a href=\"#cite_note-sxManifest20130731-75\"><span class=\"cite-bracket\">[</span>68<span class=\"cite-bracket\">]</span></a></sup></li></ul>\n",
      "</div>\n",
      "</td>\n",
      "<td>4,159 kg (9,169 lb)\n",
      "</td>\n",
      "<td><a href=\"/wiki/Geostationary_transfer_orbit\" title=\"Geostationary transfer orbit\">GTO</a>\n",
      "</td>\n",
      "<td><link href=\"mw-data:TemplateStyles:r1126788409\" rel=\"mw-deduplicated-inline-style\"/><div class=\"plainlist\">\n",
      "<ul><li><a class=\"mw-redirect\" href=\"/wiki/Asia_Broadcast_Satellite\" title=\"Asia Broadcast Satellite\">ABS</a></li>\n",
      "<li><a href=\"/wiki/Eutelsat\" title=\"Eutelsat\">Eutelsat</a></li></ul>\n",
      "</div>\n",
      "</td>\n",
      "<td class=\"table-success\" style=\"background: #9EFF9E; color:black; vertical-align: middle; text-align: center;\">Success\n",
      "</td>\n",
      "<td class=\"table-noAttempt\" style=\"background: #EEE; color:black; vertical-align: middle; white-space: nowrap; text-align: center;\">No attempt<sup class=\"reference\" id=\"cite_ref-84\"><a href=\"#cite_note-84\"><span class=\"cite-bracket\">[</span>77<span class=\"cite-bracket\">]</span></a></sup>\n",
      "</td></tr>\n",
      "<tr>\n",
      "<td colspan=\"9\">The launch was Boeing's first conjoined launch of a <a href=\"/wiki/Boeing_702\" title=\"Boeing 702\">lighter-weight dual-commsat stack</a> that was specifically designed to take advantage of the <a href=\"/wiki/Space_launch_market_competition\" title=\"Space launch market competition\">lower-cost</a> SpaceX Falcon 9 launch vehicle.<sup class=\"reference\" id=\"cite_ref-aw20140310_85-0\"><a href=\"#cite_note-aw20140310-85\"><span class=\"cite-bracket\">[</span>78<span class=\"cite-bracket\">]</span></a></sup><sup class=\"reference\" id=\"cite_ref-boeing20141112_86-0\"><a href=\"#cite_note-boeing20141112-86\"><span class=\"cite-bracket\">[</span>79<span class=\"cite-bracket\">]</span></a></sup> Per satellite, launch costs were less than US$30 million.<sup class=\"reference\" id=\"cite_ref-sfn20150302_87-0\"><a href=\"#cite_note-sfn20150302-87\"><span class=\"cite-bracket\">[</span>80<span class=\"cite-bracket\">]</span></a></sup> The ABS satellite reached its final destination ahead of schedule and started operations on 10 September 2015.<sup class=\"reference\" id=\"cite_ref-boeing_88-0\"><a href=\"#cite_note-boeing-88\"><span class=\"cite-bracket\">[</span>81<span class=\"cite-bracket\">]</span></a></sup>\n",
      "</td></tr>\n",
      "<tr>\n",
      "<th rowspan=\"2\" scope=\"row\" style=\"text-align:center;\">17\n",
      "</th>\n",
      "<td>14 April 2015,<br/>20:10<sup class=\"reference\" id=\"cite_ref-SFN_LLog_27-4\"><a href=\"#cite_note-SFN_LLog-27\"><span class=\"cite-bracket\">[</span>21<span class=\"cite-bracket\">]</span></a></sup>\n",
      "</td>\n",
      "<td><a href=\"/wiki/Falcon_9_v1.1\" title=\"Falcon 9 v1.1\">F9 v1.1</a><br/>B1015<sup class=\"reference\" id=\"cite_ref-block_numbers_14-11\"><a href=\"#cite_note-block_numbers-14\"><span class=\"cite-bracket\">[</span>8<span class=\"cite-bracket\">]</span></a></sup>\n",
      "</td>\n",
      "<td><a class=\"mw-redirect\" href=\"/wiki/Cape_Canaveral_Air_Force_Station\" title=\"Cape Canaveral Air Force Station\">Cape Canaveral</a>,<br/><a href=\"/wiki/Cape_Canaveral_Space_Launch_Complex_40\" title=\"Cape Canaveral Space Launch Complex 40\">LC-40</a>\n",
      "</td>\n",
      "<td><a href=\"/wiki/SpaceX_CRS-6\" title=\"SpaceX CRS-6\">SpaceX CRS-6</a><sup class=\"reference\" id=\"cite_ref-sxManifest20130731_75-3\"><a href=\"#cite_note-sxManifest20130731-75\"><span class=\"cite-bracket\">[</span>68<span class=\"cite-bracket\">]</span></a></sup><br/>(Dragon <a href=\"/wiki/Dragon_C108\" title=\"Dragon C108\">C108.1</a>)\n",
      "</td>\n",
      "<td>1,898 kg (4,184 lb)<sup class=\"reference\" id=\"cite_ref-89\"><a href=\"#cite_note-89\"><span class=\"cite-bracket\">[</span>82<span class=\"cite-bracket\">]</span></a></sup>\n",
      "</td>\n",
      "<td><a class=\"mw-redirect\" href=\"/wiki/Low_Earth_Orbit\" title=\"Low Earth Orbit\">LEO</a> (<a class=\"mw-redirect\" href=\"/wiki/ISS\" title=\"ISS\">ISS</a>)\n",
      "</td>\n",
      "<td><a href=\"/wiki/NASA\" title=\"NASA\">NASA</a> (<a href=\"/wiki/Commercial_Resupply_Services\" title=\"Commercial Resupply Services\">CRS</a>)\n",
      "</td>\n",
      "<td class=\"table-success\" style=\"background: #9EFF9E; color:black; vertical-align: middle; text-align: center;\">Success\n",
      "</td>\n",
      "<td class=\"table-failure\" style=\"background: #FFC7C7; color:black; vertical-align: middle; text-align: center;\">Failure<sup class=\"reference\" id=\"cite_ref-90\"><a href=\"#cite_note-90\"><span class=\"cite-bracket\">[</span>83<span class=\"cite-bracket\">]</span></a></sup><br/><small>(drone ship)</small>\n",
      "</td></tr>\n",
      "<tr>\n",
      "<td colspan=\"9\">After second-stage separation, a controlled-descent test was attempted with the first stage. After the booster contacted the ship, it tipped over due to excess lateral velocity caused by a stuck throttle valve that delayed downthrottle at the correct time.<sup class=\"reference\" id=\"cite_ref-91\"><a href=\"#cite_note-91\"><span class=\"cite-bracket\">[</span>84<span class=\"cite-bracket\">]</span></a></sup><sup class=\"reference\" id=\"cite_ref-92\"><a href=\"#cite_note-92\"><span class=\"cite-bracket\">[</span>85<span class=\"cite-bracket\">]</span></a></sup>\n",
      "</td></tr>\n",
      "<tr>\n",
      "<th rowspan=\"2\" scope=\"row\" style=\"text-align:center;\">18\n",
      "</th>\n",
      "<td>27 April 2015,<br/>23:03<sup class=\"reference\" id=\"cite_ref-patrickafb20150414_93-0\"><a href=\"#cite_note-patrickafb20150414-93\"><span class=\"cite-bracket\">[</span>86<span class=\"cite-bracket\">]</span></a></sup>\n",
      "</td>\n",
      "<td><a href=\"/wiki/Falcon_9_v1.1\" title=\"Falcon 9 v1.1\">F9 v1.1</a><br/>B1016<sup class=\"reference\" id=\"cite_ref-block_numbers_14-12\"><a href=\"#cite_note-block_numbers-14\"><span class=\"cite-bracket\">[</span>8<span class=\"cite-bracket\">]</span></a></sup>\n",
      "</td>\n",
      "<td><a href=\"/wiki/Cape_Canaveral_Space_Force_Station\" title=\"Cape Canaveral Space Force Station\">Cape Canaveral</a>,<br/><a href=\"/wiki/Cape_Canaveral_Space_Launch_Complex_40\" title=\"Cape Canaveral Space Launch Complex 40\">LC-40</a>\n",
      "</td>\n",
      "<td><a href=\"/wiki/T%C3%BCrkmen%C3%84lem_52%C2%B0E_/_MonacoSAT\" title=\"TürkmenÄlem 52°E / MonacoSAT\">TürkmenÄlem 52°E / MonacoSAT</a><sup class=\"reference\" id=\"cite_ref-sxManifest20130731_75-4\"><a href=\"#cite_note-sxManifest20130731-75\"><span class=\"cite-bracket\">[</span>68<span class=\"cite-bracket\">]</span></a></sup><sup class=\"reference\" id=\"cite_ref-turkmen-monaco_94-0\"><a href=\"#cite_note-turkmen-monaco-94\"><span class=\"cite-bracket\">[</span>87<span class=\"cite-bracket\">]</span></a></sup>\n",
      "</td>\n",
      "<td>4,707 kg (10,377 lb)\n",
      "</td>\n",
      "<td><a href=\"/wiki/Geostationary_transfer_orbit\" title=\"Geostationary transfer orbit\">GTO</a>\n",
      "</td>\n",
      "<td><a href=\"/wiki/Turkmenistan_National_Space_Agency\" title=\"Turkmenistan National Space Agency\">Turkmenistan National<br/>Space Agency</a><sup class=\"reference\" id=\"cite_ref-95\"><a href=\"#cite_note-95\"><span class=\"cite-bracket\">[</span>88<span class=\"cite-bracket\">]</span></a></sup>\n",
      "</td>\n",
      "<td class=\"table-success\" style=\"background: #9EFF9E; color:black; vertical-align: middle; text-align: center;\">Success\n",
      "</td>\n",
      "<td class=\"table-noAttempt\" style=\"background: #EEE; color:black; vertical-align: middle; white-space: nowrap; text-align: center;\">No attempt<sup class=\"reference\" id=\"cite_ref-96\"><a href=\"#cite_note-96\"><span class=\"cite-bracket\">[</span>89<span class=\"cite-bracket\">]</span></a></sup>\n",
      "</td></tr>\n",
      "<tr>\n",
      "<td colspan=\"9\">Original intended launch was delayed over a month after an issue with the helium pressurisation system was identified on similar parts in the assembly plant.<sup class=\"reference\" id=\"cite_ref-zgn20150323_97-0\"><a href=\"#cite_note-zgn20150323-97\"><span class=\"cite-bracket\">[</span>90<span class=\"cite-bracket\">]</span></a></sup> Subsequent launch successfully positioned this first Turkmen satellite at 52.0° east.\n",
      "</td></tr>\n",
      "<tr>\n",
      "<th rowspan=\"2\" scope=\"row\" style=\"text-align:center;\">19\n",
      "</th>\n",
      "<td>28 June 2015,<br/>14:21<sup class=\"reference\" id=\"cite_ref-SFN_LLog_27-5\"><a href=\"#cite_note-SFN_LLog-27\"><span class=\"cite-bracket\">[</span>21<span class=\"cite-bracket\">]</span></a></sup><sup class=\"reference\" id=\"cite_ref-nasama20150520_98-0\"><a href=\"#cite_note-nasama20150520-98\"><span class=\"cite-bracket\">[</span>91<span class=\"cite-bracket\">]</span></a></sup>\n",
      "</td>\n",
      "<td><a href=\"/wiki/Falcon_9_v1.1\" title=\"Falcon 9 v1.1\">F9 v1.1</a><br/>B1018<sup class=\"reference\" id=\"cite_ref-block_numbers_14-13\"><a href=\"#cite_note-block_numbers-14\"><span class=\"cite-bracket\">[</span>8<span class=\"cite-bracket\">]</span></a></sup>\n",
      "</td>\n",
      "<td><a href=\"/wiki/Cape_Canaveral_Space_Force_Station\" title=\"Cape Canaveral Space Force Station\">Cape Canaveral</a>,<br/><a href=\"/wiki/Cape_Canaveral_Space_Launch_Complex_40\" title=\"Cape Canaveral Space Launch Complex 40\">LC-40</a>\n",
      "</td>\n",
      "<td><a href=\"/wiki/SpaceX_CRS-7\" title=\"SpaceX CRS-7\">SpaceX CRS-7</a><sup class=\"reference\" id=\"cite_ref-sxManifest20130731_75-5\"><a href=\"#cite_note-sxManifest20130731-75\"><span class=\"cite-bracket\">[</span>68<span class=\"cite-bracket\">]</span></a></sup><br/>(Dragon C109)\n",
      "</td>\n",
      "<td>1,952 kg (4,303 lb)<sup class=\"reference\" id=\"cite_ref-99\"><a href=\"#cite_note-99\"><span class=\"cite-bracket\">[</span>92<span class=\"cite-bracket\">]</span></a></sup>\n",
      "</td>\n",
      "<td><a class=\"mw-redirect\" href=\"/wiki/Low_Earth_Orbit\" title=\"Low Earth Orbit\">LEO</a> (<a class=\"mw-redirect\" href=\"/wiki/ISS\" title=\"ISS\">ISS</a>)\n",
      "</td>\n",
      "<td><a href=\"/wiki/NASA\" title=\"NASA\">NASA</a> (<a href=\"/wiki/Commercial_Resupply_Services\" title=\"Commercial Resupply Services\">CRS</a>)\n",
      "</td>\n",
      "<td class=\"table-failure\" style=\"background: #FFC7C7; color:black; vertical-align: middle; text-align: center;\">Failure<sup class=\"reference\" id=\"cite_ref-nyt-20150628_100-0\"><a href=\"#cite_note-nyt-20150628-100\"><span class=\"cite-bracket\">[</span>93<span class=\"cite-bracket\">]</span></a></sup><br/><small>(in flight)</small>\n",
      "</td>\n",
      "<td style=\"background:#ececec; text-align:center;\">Precluded<sup class=\"reference\" id=\"cite_ref-101\"><a href=\"#cite_note-101\"><span class=\"cite-bracket\">[</span>94<span class=\"cite-bracket\">]</span></a></sup><br/><small><span class=\"nowrap\">(drone ship)</span></small>\n",
      "</td></tr>\n",
      "<tr>\n",
      "<td colspan=\"9\">Launch performance was nominal until an overpressure incident in the second-stage <a class=\"mw-redirect\" href=\"/wiki/LOX\" title=\"LOX\">LOX</a> tank, leading to vehicle breakup at T+150 seconds. Dragon capsule survived the explosion but was lost upon splashdown as its software did not contain provisions for parachute deployment on launch vehicle failure.<sup class=\"reference\" id=\"cite_ref-nsf-20150727_102-0\"><a href=\"#cite_note-nsf-20150727-102\"><span class=\"cite-bracket\">[</span>95<span class=\"cite-bracket\">]</span></a></sup><small>(<a href=\"#Loss_of_CRS-7_mission\">more details below</a>)</small> The drone ship <i>Of Course I Still Love You</i> was towed out to sea to prepare for a landing test so this mission was its first operational assignment.<sup class=\"reference\" id=\"cite_ref-nsf20150618_103-0\"><a href=\"#cite_note-nsf20150618-103\"><span class=\"cite-bracket\">[</span>96<span class=\"cite-bracket\">]</span></a></sup>\n",
      "</td></tr>\n",
      "<tr>\n",
      "<th rowspan=\"2\" scope=\"row\" style=\"text-align:center;\">20\n",
      "</th>\n",
      "<td>22 December 2015,<br/>01:29<sup class=\"reference\" id=\"cite_ref-orbcomm-og2_104-0\"><a href=\"#cite_note-orbcomm-og2-104\"><span class=\"cite-bracket\">[</span>97<span class=\"cite-bracket\">]</span></a></sup>\n",
      "</td>\n",
      "<td><a href=\"/wiki/Falcon_9_Full_Thrust\" title=\"Falcon 9 Full Thrust\">F9 FT</a><br/>B1019.1<sup class=\"reference\" id=\"cite_ref-flight20-booster_105-0\"><a href=\"#cite_note-flight20-booster-105\"><span class=\"cite-bracket\">[</span>98<span class=\"cite-bracket\">]</span></a></sup>\n",
      "</td>\n",
      "<td><a href=\"/wiki/Cape_Canaveral_Space_Force_Station\" title=\"Cape Canaveral Space Force Station\">Cape Canaveral</a>,<br/><a href=\"/wiki/Cape_Canaveral_Space_Launch_Complex_40\" title=\"Cape Canaveral Space Launch Complex 40\">LC-40</a>\n",
      "</td>\n",
      "<td><a class=\"mw-redirect\" href=\"/wiki/Orbcomm-OG2\" title=\"Orbcomm-OG2\">Orbcomm-OG2</a>-2<br/>(11 satellites)<sup class=\"reference\" id=\"cite_ref-sxManifest20120925_28-10\"><a href=\"#cite_note-sxManifest20120925-28\"><span class=\"cite-bracket\">[</span>22<span class=\"cite-bracket\">]</span></a></sup><sup class=\"reference\" id=\"cite_ref-orbcomm-og2_104-1\"><a href=\"#cite_note-orbcomm-og2-104\"><span class=\"cite-bracket\">[</span>97<span class=\"cite-bracket\">]</span></a></sup>\n",
      "</td>\n",
      "<td>2,034 kg (4,484 lb)\n",
      "</td>\n",
      "<td><a class=\"mw-redirect\" href=\"/wiki/Low_Earth_Orbit\" title=\"Low Earth Orbit\">LEO</a>\n",
      "</td>\n",
      "<td><a href=\"/wiki/Orbcomm\" title=\"Orbcomm\">Orbcomm</a>\n",
      "</td>\n",
      "<td class=\"table-success\" style=\"background: #9EFF9E; color:black; vertical-align: middle; text-align: center;\">Success\n",
      "</td>\n",
      "<td class=\"table-success\" style=\"background: #9EFF9E; color:black; vertical-align: middle; text-align: center;\">Success<sup class=\"reference\" id=\"cite_ref-flight20-landing_106-0\"><a href=\"#cite_note-flight20-landing-106\"><span class=\"cite-bracket\">[</span>99<span class=\"cite-bracket\">]</span></a></sup><br/><small><span class=\"nowrap\">(ground pad)</span></small>\n",
      "</td></tr>\n",
      "<tr>\n",
      "<td colspan=\"9\">Payload included eleven satellites weighing 172 kg (379 lb) each,<sup class=\"reference\" id=\"cite_ref-gunter-og2_30-2\"><a href=\"#cite_note-gunter-og2-30\"><span class=\"cite-bracket\">[</span>24<span class=\"cite-bracket\">]</span></a></sup> and a 142 kg (313 lb) mass simulator.<sup class=\"reference\" id=\"cite_ref-gunter-og2-sim_59-1\"><a href=\"#cite_note-gunter-og2-sim-59\"><span class=\"cite-bracket\">[</span>52<span class=\"cite-bracket\">]</span></a></sup> First launch of the upgraded v1.1 version, with a 30% power increase.<sup class=\"reference\" id=\"cite_ref-sn20151016_107-0\"><a href=\"#cite_note-sn20151016-107\"><span class=\"cite-bracket\">[</span>100<span class=\"cite-bracket\">]</span></a></sup> Orbcomm had originally agreed to be the third flight of the enhanced-thrust rocket,<sup class=\"reference\" id=\"cite_ref-sn20150508_108-0\"><a href=\"#cite_note-sn20150508-108\"><span class=\"cite-bracket\">[</span>101<span class=\"cite-bracket\">]</span></a></sup> but the change to the maiden flight position was announced in October 2015.<sup class=\"reference\" id=\"cite_ref-sn20151016_107-1\"><a href=\"#cite_note-sn20151016-107\"><span class=\"cite-bracket\">[</span>100<span class=\"cite-bracket\">]</span></a></sup> SpaceX received a permit from the <a class=\"mw-redirect\" href=\"/wiki/FAA\" title=\"FAA\">FAA</a> to land the booster <a href=\"/wiki/Landing_Zones_1_and_2\" title=\"Landing Zones 1 and 2\">on solid ground</a> at <a href=\"/wiki/Cape_Canaveral_Space_Force_Station\" title=\"Cape Canaveral Space Force Station\">Cape Canaveral</a><sup class=\"reference\" id=\"cite_ref-109\"><a href=\"#cite_note-109\"><span class=\"cite-bracket\">[</span>102<span class=\"cite-bracket\">]</span></a></sup> and succeeded for the first time.<sup class=\"reference\" id=\"cite_ref-flight20-landing_106-1\"><a href=\"#cite_note-flight20-landing-106\"><span class=\"cite-bracket\">[</span>99<span class=\"cite-bracket\">]</span></a></sup> This booster, serial number <a class=\"mw-redirect\" href=\"/wiki/B1019\" title=\"B1019\">B1019</a>, is now on permanent display outside SpaceX's headquarters in <a href=\"/wiki/Hawthorne,_California\" title=\"Hawthorne, California\">Hawthorne, California</a>, at the intersection of Crenshaw Boulevard and Jack Northrop Avenue.<sup class=\"reference\" id=\"cite_ref-flight20-booster_105-1\"><a href=\"#cite_note-flight20-booster-105\"><span class=\"cite-bracket\">[</span>98<span class=\"cite-bracket\">]</span></a></sup> <small>(<a href=\"#Full-thrust_version_and_first_booster_landings\">more details below</a>)</small>\n",
      "</td></tr></tbody></table>\n"
     ]
    }
   ],
   "source": [
    "# Find all tables on the page\n",
    "html_tables = soup.find_all(\"table\", class_=\"wikitable\")\n",
    "\n",
    "# Select the third table (index 2)\n",
    "target_table = html_tables[2]\n",
    "print(target_table)\n"
   ]
  },
  {
   "cell_type": "markdown",
   "id": "4a21570a-e387-464e-a6bb-a3fff1fd5c90",
   "metadata": {},
   "source": [
    "## Extract Column Names"
   ]
  },
  {
   "cell_type": "markdown",
   "id": "26f44e39-1a9a-48cf-ad91-7761bcd0216b",
   "metadata": {},
   "source": [
    "Parse the table headers (<th> elements) to extract column names."
   ]
  },
  {
   "cell_type": "code",
   "execution_count": 5,
   "id": "4fc2acfe-c4ca-4b95-afa3-0bc6d4fd840b",
   "metadata": {},
   "outputs": [
    {
     "name": "stdout",
     "output_type": "stream",
     "text": [
      "['Flight No.', 'Date and time ( )', 'Launch site', 'Payload', 'Payload mass', 'Orbit', 'Customer', 'Launch outcome']\n"
     ]
    }
   ],
   "source": [
    "# Extract column names\n",
    "def extract_column_from_header(row):\n",
    "    if row.br:\n",
    "        row.br.extract()\n",
    "    if row.a:\n",
    "        row.a.extract()\n",
    "    if row.sup:\n",
    "        row.sup.extract()\n",
    "    column_name = ' '.join(row.contents).strip()\n",
    "    return column_name if column_name and not column_name.isdigit() else None\n",
    "\n",
    "column_names = [\n",
    "    extract_column_from_header(th)\n",
    "    for th in target_table.find_all(\"th\")\n",
    "]\n",
    "column_names = [name for name in column_names if name]\n",
    "print(column_names)\n"
   ]
  },
  {
   "cell_type": "markdown",
   "id": "2886b841-3fd9-44ba-9e02-ac3108355862",
   "metadata": {},
   "source": [
    "### helper function"
   ]
  },
  {
   "cell_type": "code",
   "execution_count": 18,
   "id": "d6a92c56-d47e-49fa-9ad4-b0c4d53fb95b",
   "metadata": {},
   "outputs": [],
   "source": [
    "# Parse rows\n",
    "for row in target_table.find_all(\"tr\")[1:]:  # Skip header row\n",
    "    cells = row.find_all(\"td\")\n",
    "    if len(cells) > 0:\n",
    "        # Ensure row has a <th> element before accessing it\n",
    "        flight_no = row.find(\"th\")\n",
    "        if flight_no is not None:\n",
    "            launch_dict['Flight No.'].append(flight_no.text.strip())\n",
    "        else:\n",
    "            launch_dict['Flight No.'].append(\"\")  # Add a placeholder if no <th> is present\n",
    "\n",
    "        # Extract date and time\n",
    "        date, time = date_time(cells[0])\n",
    "        launch_dict['Date'] = date\n",
    "        launch_dict['Time'] = time\n",
    "\n",
    "        # Extract other details\n",
    "        launch_dict['Version Booster'].append(cells[1].text.strip() if len(cells) > 1 else \"\")\n",
    "        launch_dict['Launch site'].append(cells[2].text.strip() if len(cells) > 2 else \"\")\n",
    "        launch_dict['Payload'].append(cells[3].text.strip() if len(cells) > 3 else \"\")\n",
    "        launch_dict['Payload mass'].append(get_mass(cells[4]) if len(cells) > 4 else \"\")\n",
    "        launch_dict['Orbit'].append(cells[5].text.strip() if len(cells) > 5 else \"\")\n",
    "        launch_dict['Customer'].append(cells[6].text.strip() if len(cells) > 6 else \"\")\n",
    "        launch_dict['Launch outcome'].append(cells[7].text.strip() if len(cells) > 7 else \"\")\n",
    "        launch_dict['Booster landing'].append(cells[8].text.strip() if len(cells) > 8 else \"\")\n"
   ]
  },
  {
   "cell_type": "markdown",
   "id": "51972c22-beea-4253-a415-0d3a9b09f219",
   "metadata": {},
   "source": [
    "## Parse Table Rows"
   ]
  },
  {
   "cell_type": "markdown",
   "id": "a0564bce-cad5-4a9b-b51c-63700aa576a8",
   "metadata": {},
   "source": [
    "Iterate through table rows and extract relevant data into a dictionary.\n",
    "\n",
    "Initialize the dictionary:"
   ]
  },
  {
   "cell_type": "code",
   "execution_count": 13,
   "id": "2bdc7c0b-f852-4af2-a1b4-e5cc93edae6a",
   "metadata": {},
   "outputs": [],
   "source": [
    "launch_dict= dict.fromkeys(column_names)\n",
    "\n",
    "# Remove an irrelvant column\n",
    "del launch_dict['Date and time ( )']\n",
    "\n",
    "# Let's initial the launch_dict with each value to be an empty list\n",
    "launch_dict['Flight No.'] = []\n",
    "launch_dict['Launch site'] = []\n",
    "launch_dict['Payload'] = []\n",
    "launch_dict['Payload mass'] = []\n",
    "launch_dict['Orbit'] = []\n",
    "launch_dict['Customer'] = []\n",
    "launch_dict['Launch outcome'] = []\n",
    "# Added some new columns\n",
    "launch_dict['Version Booster']=[]\n",
    "launch_dict['Booster landing']=[]\n",
    "launch_dict['Date']=[]\n",
    "launch_dict['Time']=[]\n"
   ]
  },
  {
   "cell_type": "code",
   "execution_count": 17,
   "id": "818789c2-f921-400b-ada2-d20c9e9c6778",
   "metadata": {},
   "outputs": [],
   "source": [
    "\n",
    "\n",
    "# Parse rows\n",
    "for row in target_table.find_all(\"tr\")[1:]:  # Skip header row\n",
    "    cells = row.find_all(\"td\")\n",
    "    if len(cells) > 0:\n",
    "        # Ensure row has a <th> element before accessing it\n",
    "        flight_no = row.find(\"th\")\n",
    "        if flight_no is not None:\n",
    "            launch_dict['Flight No.'].append(flight_no.text.strip())\n",
    "        else:\n",
    "            launch_dict['Flight No.'].append(\"\")  # Add a placeholder if no <th> is present\n",
    "\n",
    "        # Extract date and time\n",
    "        date, time = date_time(cells[0])\n",
    "        launch_dict['Date'] = date\n",
    "        launch_dict['Time'] = time\n",
    "\n",
    "        # Extract other details\n",
    "        launch_dict['Version Booster'].append(cells[1].text.strip() if len(cells) > 1 else \"\")\n",
    "        launch_dict['Launch site'].append(cells[2].text.strip() if len(cells) > 2 else \"\")\n",
    "        launch_dict['Payload'].append(cells[3].text.strip() if len(cells) > 3 else \"\")\n",
    "        launch_dict['Payload mass'].append(get_mass(cells[4]) if len(cells) > 4 else \"\")\n",
    "        launch_dict['Orbit'].append(cells[5].text.strip() if len(cells) > 5 else \"\")\n",
    "        launch_dict['Customer'].append(cells[6].text.strip() if len(cells) > 6 else \"\")\n",
    "        launch_dict['Launch outcome'].append(cells[7].text.strip() if len(cells) > 7 else \"\")\n",
    "        launch_dict['Booster landing'].append(cells[8].text.strip() if len(cells) > 8 else \"\")\n",
    "\n"
   ]
  },
  {
   "cell_type": "markdown",
   "id": "d1b537a8-aa0c-4b5a-8702-c9699db5caff",
   "metadata": {},
   "source": [
    "## Create a DataFrame"
   ]
  },
  {
   "cell_type": "code",
   "execution_count": 20,
   "id": "650dea08-6625-4307-82da-b50f354010ec",
   "metadata": {
    "scrolled": true
   },
   "outputs": [
    {
     "data": {
      "text/html": [
       "<div>\n",
       "<style scoped>\n",
       "    .dataframe tbody tr th:only-of-type {\n",
       "        vertical-align: middle;\n",
       "    }\n",
       "\n",
       "    .dataframe tbody tr th {\n",
       "        vertical-align: top;\n",
       "    }\n",
       "\n",
       "    .dataframe thead th {\n",
       "        text-align: right;\n",
       "    }\n",
       "</style>\n",
       "<table border=\"1\" class=\"dataframe\">\n",
       "  <thead>\n",
       "    <tr style=\"text-align: right;\">\n",
       "      <th></th>\n",
       "      <th>Flight No.</th>\n",
       "      <th>Launch site</th>\n",
       "      <th>Payload</th>\n",
       "      <th>Payload mass</th>\n",
       "      <th>Orbit</th>\n",
       "      <th>Customer</th>\n",
       "      <th>Launch outcome</th>\n",
       "      <th>Version Booster</th>\n",
       "      <th>Booster landing</th>\n",
       "      <th>Date</th>\n",
       "      <th>Time</th>\n",
       "    </tr>\n",
       "  </thead>\n",
       "  <tbody>\n",
       "    <tr>\n",
       "      <th>0</th>\n",
       "      <td>14</td>\n",
       "      <td>Cape Canaveral,LC-40</td>\n",
       "      <td>SpaceX CRS-5[68](Dragon C107)</td>\n",
       "      <td>2,395 kg</td>\n",
       "      <td>LEO (ISS)</td>\n",
       "      <td>NASA (CRS)</td>\n",
       "      <td>Success[70]</td>\n",
       "      <td>F9 v1.1B1012[8]</td>\n",
       "      <td>Failure (drone ship)</td>\n",
       "      <td>Payload included eleven satellites weighing 17...</td>\n",
       "      <td>[</td>\n",
       "    </tr>\n",
       "    <tr>\n",
       "      <th>1</th>\n",
       "      <td>14</td>\n",
       "      <td>Cape Canaveral,LC-40</td>\n",
       "      <td>SpaceX CRS-5[68](Dragon C107)</td>\n",
       "      <td>2,395 kg</td>\n",
       "      <td>LEO (ISS)</td>\n",
       "      <td>NASA (CRS)</td>\n",
       "      <td>Success[70]</td>\n",
       "      <td>F9 v1.1B1012[8]</td>\n",
       "      <td>Failure (drone ship)</td>\n",
       "      <td>Payload included eleven satellites weighing 17...</td>\n",
       "      <td>[</td>\n",
       "    </tr>\n",
       "    <tr>\n",
       "      <th>2</th>\n",
       "      <td></td>\n",
       "      <td></td>\n",
       "      <td></td>\n",
       "      <td></td>\n",
       "      <td></td>\n",
       "      <td></td>\n",
       "      <td></td>\n",
       "      <td></td>\n",
       "      <td></td>\n",
       "      <td>Payload included eleven satellites weighing 17...</td>\n",
       "      <td>[</td>\n",
       "    </tr>\n",
       "    <tr>\n",
       "      <th>3</th>\n",
       "      <td>15</td>\n",
       "      <td>Cape Canaveral,LC-40</td>\n",
       "      <td>DSCOVR[68][73]</td>\n",
       "      <td>570 kg</td>\n",
       "      <td>HEO(Sun–Earth L1 insertion)</td>\n",
       "      <td>USAF\\nNASA\\nNOAA</td>\n",
       "      <td>Success</td>\n",
       "      <td>F9 v1.1B1013[8]</td>\n",
       "      <td>Controlled(ocean)[d]</td>\n",
       "      <td>Payload included eleven satellites weighing 17...</td>\n",
       "      <td>[</td>\n",
       "    </tr>\n",
       "    <tr>\n",
       "      <th>4</th>\n",
       "      <td></td>\n",
       "      <td></td>\n",
       "      <td></td>\n",
       "      <td></td>\n",
       "      <td></td>\n",
       "      <td></td>\n",
       "      <td></td>\n",
       "      <td></td>\n",
       "      <td></td>\n",
       "      <td>Payload included eleven satellites weighing 17...</td>\n",
       "      <td>[</td>\n",
       "    </tr>\n",
       "  </tbody>\n",
       "</table>\n",
       "</div>"
      ],
      "text/plain": [
       "  Flight No.           Launch site                        Payload  \\\n",
       "0         14  Cape Canaveral,LC-40  SpaceX CRS-5[68](Dragon C107)   \n",
       "1         14  Cape Canaveral,LC-40  SpaceX CRS-5[68](Dragon C107)   \n",
       "2                                                                   \n",
       "3         15  Cape Canaveral,LC-40                 DSCOVR[68][73]   \n",
       "4                                                                   \n",
       "\n",
       "  Payload mass                        Orbit          Customer Launch outcome  \\\n",
       "0     2,395 kg                    LEO (ISS)        NASA (CRS)    Success[70]   \n",
       "1     2,395 kg                    LEO (ISS)        NASA (CRS)    Success[70]   \n",
       "2                                                                              \n",
       "3       570 kg  HEO(Sun–Earth L1 insertion)  USAF\\nNASA\\nNOAA        Success   \n",
       "4                                                                              \n",
       "\n",
       "   Version Booster       Booster landing  \\\n",
       "0  F9 v1.1B1012[8]  Failure (drone ship)   \n",
       "1  F9 v1.1B1012[8]  Failure (drone ship)   \n",
       "2                                          \n",
       "3  F9 v1.1B1013[8]  Controlled(ocean)[d]   \n",
       "4                                          \n",
       "\n",
       "                                                Date Time  \n",
       "0  Payload included eleven satellites weighing 17...    [  \n",
       "1  Payload included eleven satellites weighing 17...    [  \n",
       "2  Payload included eleven satellites weighing 17...    [  \n",
       "3  Payload included eleven satellites weighing 17...    [  \n",
       "4  Payload included eleven satellites weighing 17...    [  "
      ]
     },
     "execution_count": 20,
     "metadata": {},
     "output_type": "execute_result"
    }
   ],
   "source": [
    "df = pd.DataFrame(launch_dict)\n",
    "df.head()"
   ]
  },
  {
   "cell_type": "markdown",
   "id": "5f1d9658-c36e-47cd-aa20-dbd82e25c12b",
   "metadata": {},
   "source": [
    "## Export the Data"
   ]
  },
  {
   "cell_type": "code",
   "execution_count": 21,
   "id": "1fc01bc7-461b-4fe9-9373-18a228b9078e",
   "metadata": {},
   "outputs": [
    {
     "name": "stdout",
     "output_type": "stream",
     "text": [
      "Data exported to spacex_web_scraped.csv\n"
     ]
    }
   ],
   "source": [
    "df.to_csv('spacex_web_scraped.csv', index=False)\n",
    "print(\"Data exported to spacex_web_scraped.csv\")\n"
   ]
  },
  {
   "cell_type": "code",
   "execution_count": null,
   "id": "50d0300d-25ef-426a-b68c-61119975070b",
   "metadata": {},
   "outputs": [],
   "source": []
  }
 ],
 "metadata": {
  "kernelspec": {
   "display_name": "Python 3 (ipykernel)",
   "language": "python",
   "name": "python3"
  },
  "language_info": {
   "codemirror_mode": {
    "name": "ipython",
    "version": 3
   },
   "file_extension": ".py",
   "mimetype": "text/x-python",
   "name": "python",
   "nbconvert_exporter": "python",
   "pygments_lexer": "ipython3",
   "version": "3.11.4"
  }
 },
 "nbformat": 4,
 "nbformat_minor": 5
}
