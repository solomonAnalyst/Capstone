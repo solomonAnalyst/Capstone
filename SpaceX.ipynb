{
 "cells": [
  {
   "cell_type": "markdown",
   "id": "2032f16f-c4e4-48ec-8a85-f9b3c5d2fd46",
   "metadata": {},
   "source": [
    "# SpaceX Falcon 9 first stage Landing Prediction"
   ]
  },
  {
   "cell_type": "markdown",
   "id": "4d702e27-55ba-40e8-a88e-d723c51ca054",
   "metadata": {},
   "source": [
    "## Import Libraries and Define Auxiliary Functions"
   ]
  },
  {
   "cell_type": "markdown",
   "id": "f8336dbd-e3a0-4ac4-8b64-b8c177037db9",
   "metadata": {},
   "source": [
    "### Import Libraries"
   ]
  },
  {
   "cell_type": "code",
   "execution_count": 1,
   "id": "cd1099a4-dae0-499c-a195-f6bfdd565cee",
   "metadata": {},
   "outputs": [],
   "source": [
    "import requests\n",
    "import pandas as pd\n",
    "import numpy as np\n",
    "import datetime\n",
    "\n",
    "# Display all columns and full content in pandas DataFrames\n",
    "pd.set_option('display.max_columns', None)\n",
    "pd.set_option('display.max_colwidth', None)\n"
   ]
  },
  {
   "cell_type": "markdown",
   "id": "783b6e51-602e-4a50-953c-7296473ca6bf",
   "metadata": {},
   "source": [
    "### Auxilaiary Functions"
   ]
  },
  {
   "cell_type": "markdown",
   "id": "5ff8616b-356b-4645-8d27-fa36eb3e6fd5",
   "metadata": {},
   "source": [
    "Define helper functions to extract specific details about rockets, launch sites, payloads, and core data:"
   ]
  },
  {
   "cell_type": "code",
   "execution_count": 2,
   "id": "1ecffed6-6f03-436c-80f7-9b12ceefab12",
   "metadata": {},
   "outputs": [],
   "source": [
    "def getBoosterVersion(data):\n",
    "    for x in data['rocket']:\n",
    "        if x:\n",
    "            response = requests.get(f\"https://api.spacexdata.com/v4/rockets/{x}\").json()\n",
    "            BoosterVersion.append(response.get('name', None))\n",
    "\n",
    "def getLaunchSite(data):\n",
    "    for x in data['launchpad']:\n",
    "        if x:\n",
    "            response = requests.get(f\"https://api.spacexdata.com/v4/launchpads/{x}\").json()\n",
    "            Longitude.append(response.get('longitude', None))\n",
    "            Latitude.append(response.get('latitude', None))\n",
    "            LaunchSite.append(response.get('name', None))\n",
    "\n",
    "def getPayloadData(data):\n",
    "    for load in data['payloads']:\n",
    "        if load:\n",
    "            response = requests.get(f\"https://api.spacexdata.com/v4/payloads/{load}\").json()\n",
    "            PayloadMass.append(response.get('mass_kg', None))\n",
    "            Orbit.append(response.get('orbit', None))\n",
    "\n",
    "def getCoreData(data):\n",
    "    for core in data['cores']:\n",
    "        if core['core']:\n",
    "            response = requests.get(f\"https://api.spacexdata.com/v4/cores/{core['core']}\").json()\n",
    "            Block.append(response.get('block', None))\n",
    "            ReusedCount.append(response.get('reuse_count', None))\n",
    "            Serial.append(response.get('serial', None))\n",
    "        else:\n",
    "            Block.append(None)\n",
    "            ReusedCount.append(None)\n",
    "            Serial.append(None)\n",
    "        Outcome.append(f\"{core['landing_success']} {core['landing_type']}\")\n",
    "        Flights.append(core['flight'])\n",
    "        GridFins.append(core['gridfins'])\n",
    "        Reused.append(core['reused'])\n",
    "        Legs.append(core['legs'])\n",
    "        LandingPad.append(core['landpad'])\n"
   ]
  },
  {
   "cell_type": "markdown",
   "id": "c7949e24-ccb6-43a8-a707-61b88fe5c57a",
   "metadata": {},
   "source": [
    "## Fetch Data from SpaceX API"
   ]
  },
  {
   "cell_type": "code",
   "execution_count": 3,
   "id": "21bffc24-a252-47f3-8d2a-4f1e480479c6",
   "metadata": {},
   "outputs": [
    {
     "name": "stdout",
     "output_type": "stream",
     "text": [
      "Data fetched successfully.\n"
     ]
    }
   ],
   "source": [
    "spacex_url = \"https://api.spacexdata.com/v4/launches/past\"\n",
    "response = requests.get(spacex_url)\n",
    "\n",
    "if response.status_code == 200:\n",
    "    data = response.json()\n",
    "    print(\"Data fetched successfully.\")\n",
    "else:\n",
    "    print(\"Failed to fetch data.\")\n"
   ]
  },
  {
   "cell_type": "markdown",
   "id": "22f8ab13-316d-42ed-98be-33e61d3951fd",
   "metadata": {},
   "source": [
    "## . Convert JSON Data to DataFrame"
   ]
  },
  {
   "cell_type": "code",
   "execution_count": 4,
   "id": "7ef09cf2-b3cc-4d60-903d-c4f6333cdc90",
   "metadata": {},
   "outputs": [
    {
     "name": "stdout",
     "output_type": "stream",
     "text": [
      "       static_fire_date_utc  static_fire_date_unix    net  window  \\\n",
      "0  2006-03-17T00:00:00.000Z           1.142554e+09  False     0.0   \n",
      "1                      None                    NaN  False     0.0   \n",
      "2                      None                    NaN  False     0.0   \n",
      "3  2008-09-20T00:00:00.000Z           1.221869e+09  False     0.0   \n",
      "4                      None                    NaN  False     0.0   \n",
      "\n",
      "                     rocket success  \\\n",
      "0  5e9d0d95eda69955f709d1eb   False   \n",
      "1  5e9d0d95eda69955f709d1eb   False   \n",
      "2  5e9d0d95eda69955f709d1eb   False   \n",
      "3  5e9d0d95eda69955f709d1eb    True   \n",
      "4  5e9d0d95eda69955f709d1eb    True   \n",
      "\n",
      "                                                                                                            failures  \\\n",
      "0                                                [{'time': 33, 'altitude': None, 'reason': 'merlin engine failure'}]   \n",
      "1            [{'time': 301, 'altitude': 289, 'reason': 'harmonic oscillation leading to premature engine shutdown'}]   \n",
      "2  [{'time': 140, 'altitude': 35, 'reason': 'residual stage-1 thrust led to collision between stage 1 and stage 2'}]   \n",
      "3                                                                                                                 []   \n",
      "4                                                                                                                 []   \n",
      "\n",
      "                                                                                                                                                                                details  \\\n",
      "0                                                                                                                                      Engine failure at 33 seconds and loss of vehicle   \n",
      "1  Successful first stage burn and transition to second stage, maximum altitude 289 km, Premature engine shutdown at T+7 min 30 s, Failed to reach orbit, Failed to recover first stage   \n",
      "2                                                                                                                  Residual stage 1 thrust led to collision between stage 1 and stage 2   \n",
      "3                        Ratsat was carried to orbit on the first successful orbital launch of any privately funded and developed, liquid-propelled carrier rocket, the SpaceX Falcon 1   \n",
      "4                                                                                                                                                                                  None   \n",
      "\n",
      "  crew ships capsules                                              payloads  \\\n",
      "0   []    []       []                            [5eb0e4b5b6c3bb0006eeb1e1]   \n",
      "1   []    []       []                            [5eb0e4b6b6c3bb0006eeb1e2]   \n",
      "2   []    []       []  [5eb0e4b6b6c3bb0006eeb1e3, 5eb0e4b6b6c3bb0006eeb1e4]   \n",
      "3   []    []       []                            [5eb0e4b7b6c3bb0006eeb1e5]   \n",
      "4   []    []       []                            [5eb0e4b7b6c3bb0006eeb1e6]   \n",
      "\n",
      "                  launchpad  flight_number         name  \\\n",
      "0  5e9e4502f5090995de566f86              1    FalconSat   \n",
      "1  5e9e4502f5090995de566f86              2      DemoSat   \n",
      "2  5e9e4502f5090995de566f86              3  Trailblazer   \n",
      "3  5e9e4502f5090995de566f86              4       RatSat   \n",
      "4  5e9e4502f5090995de566f86              5     RazakSat   \n",
      "\n",
      "                   date_utc   date_unix                 date_local  \\\n",
      "0  2006-03-24T22:30:00.000Z  1143239400  2006-03-25T10:30:00+12:00   \n",
      "1  2007-03-21T01:10:00.000Z  1174439400  2007-03-21T13:10:00+12:00   \n",
      "2  2008-08-03T03:34:00.000Z  1217734440  2008-08-03T15:34:00+12:00   \n",
      "3  2008-09-28T23:15:00.000Z  1222643700  2008-09-28T11:15:00+12:00   \n",
      "4  2009-07-13T03:35:00.000Z  1247456100  2009-07-13T15:35:00+12:00   \n",
      "\n",
      "  date_precision  upcoming  \\\n",
      "0           hour     False   \n",
      "1           hour     False   \n",
      "2           hour     False   \n",
      "3           hour     False   \n",
      "4           hour     False   \n",
      "\n",
      "                                                                                                                                                                                              cores  \\\n",
      "0  [{'core': '5e9e289df35918033d3b2623', 'flight': 1, 'gridfins': False, 'legs': False, 'reused': False, 'landing_attempt': False, 'landing_success': None, 'landing_type': None, 'landpad': None}]   \n",
      "1  [{'core': '5e9e289ef35918416a3b2624', 'flight': 1, 'gridfins': False, 'legs': False, 'reused': False, 'landing_attempt': False, 'landing_success': None, 'landing_type': None, 'landpad': None}]   \n",
      "2  [{'core': '5e9e289ef3591814873b2625', 'flight': 1, 'gridfins': False, 'legs': False, 'reused': False, 'landing_attempt': False, 'landing_success': None, 'landing_type': None, 'landpad': None}]   \n",
      "3  [{'core': '5e9e289ef3591855dc3b2626', 'flight': 1, 'gridfins': False, 'legs': False, 'reused': False, 'landing_attempt': False, 'landing_success': None, 'landing_type': None, 'landpad': None}]   \n",
      "4  [{'core': '5e9e289ef359184f103b2627', 'flight': 1, 'gridfins': False, 'legs': False, 'reused': False, 'landing_attempt': False, 'landing_success': None, 'landing_type': None, 'landpad': None}]   \n",
      "\n",
      "   auto_update    tbd launch_library_id                        id  \\\n",
      "0         True  False              None  5eb87cd9ffd86e000604b32a   \n",
      "1         True  False              None  5eb87cdaffd86e000604b32b   \n",
      "2         True  False              None  5eb87cdbffd86e000604b32c   \n",
      "3         True  False              None  5eb87cdbffd86e000604b32d   \n",
      "4         True  False              None  5eb87cdcffd86e000604b32e   \n",
      "\n",
      "  fairings.reused fairings.recovery_attempt fairings.recovered fairings.ships  \\\n",
      "0           False                     False              False             []   \n",
      "1           False                     False              False             []   \n",
      "2           False                     False              False             []   \n",
      "3           False                     False              False             []   \n",
      "4           False                     False              False             []   \n",
      "\n",
      "                                 links.patch.small  \\\n",
      "0  https://images2.imgbox.com/94/f2/NN6Ph45r_o.png   \n",
      "1  https://images2.imgbox.com/f9/4a/ZboXReNb_o.png   \n",
      "2  https://images2.imgbox.com/6c/cb/na1tzhHs_o.png   \n",
      "3  https://images2.imgbox.com/95/39/sRqN7rsv_o.png   \n",
      "4  https://images2.imgbox.com/ab/5a/Pequxd5d_o.png   \n",
      "\n",
      "                                 links.patch.large links.reddit.campaign  \\\n",
      "0  https://images2.imgbox.com/5b/02/QcxHUb5V_o.png                  None   \n",
      "1  https://images2.imgbox.com/80/a2/bkWotCIS_o.png                  None   \n",
      "2  https://images2.imgbox.com/4a/80/k1oAkY0k_o.png                  None   \n",
      "3  https://images2.imgbox.com/a3/99/qswRYzE8_o.png                  None   \n",
      "4  https://images2.imgbox.com/92/e4/7Cf6MLY0_o.png                  None   \n",
      "\n",
      "  links.reddit.launch links.reddit.media links.reddit.recovery  \\\n",
      "0                None               None                  None   \n",
      "1                None               None                  None   \n",
      "2                None               None                  None   \n",
      "3                None               None                  None   \n",
      "4                None               None                  None   \n",
      "\n",
      "  links.flickr.small links.flickr.original  \\\n",
      "0                 []                    []   \n",
      "1                 []                    []   \n",
      "2                 []                    []   \n",
      "3                 []                    []   \n",
      "4                 []                    []   \n",
      "\n",
      "                                                                                           links.presskit  \\\n",
      "0                                                                                                    None   \n",
      "1                                                                                                    None   \n",
      "2                                                                                                    None   \n",
      "3                                                                                                    None   \n",
      "4  http://www.spacex.com/press/2012/12/19/spacexs-falcon-1-successfully-delivers-razaksat-satellite-orbit   \n",
      "\n",
      "                                 links.webcast links.youtube_id  \\\n",
      "0  https://www.youtube.com/watch?v=0a_00nJ_Y88      0a_00nJ_Y88   \n",
      "1  https://www.youtube.com/watch?v=Lk4zQ2wP-Nc      Lk4zQ2wP-Nc   \n",
      "2  https://www.youtube.com/watch?v=v0w9p3U8860      v0w9p3U8860   \n",
      "3  https://www.youtube.com/watch?v=dLQ2tZEH6G0      dLQ2tZEH6G0   \n",
      "4  https://www.youtube.com/watch?v=yTaIDooc8Og      yTaIDooc8Og   \n",
      "\n",
      "                                                                  links.article  \\\n",
      "0  https://www.space.com/2196-spacex-inaugural-falcon-1-rocket-lost-launch.html   \n",
      "1      https://www.space.com/3590-spacex-falcon-1-rocket-fails-reach-orbit.html   \n",
      "2       http://www.spacex.com/news/2013/02/11/falcon-1-flight-3-mission-summary   \n",
      "3                                          https://en.wikipedia.org/wiki/Ratsat   \n",
      "4                       http://www.spacex.com/news/2013/02/12/falcon-1-flight-5   \n",
      "\n",
      "                                         links.wikipedia  fairings  \n",
      "0                  https://en.wikipedia.org/wiki/DemoSat       NaN  \n",
      "1                  https://en.wikipedia.org/wiki/DemoSat       NaN  \n",
      "2  https://en.wikipedia.org/wiki/Trailblazer_(satellite)       NaN  \n",
      "3                   https://en.wikipedia.org/wiki/Ratsat       NaN  \n",
      "4                 https://en.wikipedia.org/wiki/RazakSAT       NaN  \n"
     ]
    }
   ],
   "source": [
    "data = pd.json_normalize(data)\n",
    "print(data.head())  # Inspect the first 5 rows of the data\n"
   ]
  },
  {
   "cell_type": "markdown",
   "id": "392c14d2-6f28-4698-8ad4-0a856fc0c96e",
   "metadata": {},
   "source": [
    "## Subset and Clean the Data"
   ]
  },
  {
   "cell_type": "markdown",
   "id": "50be52f1-1c67-4ed3-9a7d-b64af0e2573a",
   "metadata": {},
   "source": [
    "Retain only relevant columns and clean the dataset:"
   ]
  },
  {
   "cell_type": "code",
   "execution_count": 5,
   "id": "b21ba449-9abc-4545-b74f-c1344d3b8386",
   "metadata": {},
   "outputs": [],
   "source": [
    "data = data[['rocket', 'payloads', 'launchpad', 'cores', 'flight_number', 'date_utc']]\n",
    "\n",
    "# Remove rows with multiple cores or payloads\n",
    "data = data[data['cores'].map(len) == 1]\n",
    "data = data[data['payloads'].map(len) == 1]\n",
    "\n",
    "# Extract single values from lists in 'cores' and 'payloads'\n",
    "data['cores'] = data['cores'].map(lambda x: x[0])\n",
    "data['payloads'] = data['payloads'].map(lambda x: x[0])\n",
    "\n",
    "# Convert 'date_utc' to datetime and filter dates\n",
    "data['date'] = pd.to_datetime(data['date_utc']).dt.date\n",
    "data = data[data['date'] <= datetime.date(2020, 11, 13)]\n"
   ]
  },
  {
   "cell_type": "markdown",
   "id": "39540198-22bd-46fc-95cc-fe44ab8a4da6",
   "metadata": {},
   "source": [
    "## Initialize Global Variables"
   ]
  },
  {
   "cell_type": "markdown",
   "id": "6f1b6907-2c8d-44ce-a551-e1d6e3f392b8",
   "metadata": {},
   "source": [
    "Define empty lists to store the extracted data:"
   ]
  },
  {
   "cell_type": "code",
   "execution_count": 6,
   "id": "5607371b-49a6-4271-91af-4bb29787f118",
   "metadata": {},
   "outputs": [],
   "source": [
    "BoosterVersion = []\n",
    "PayloadMass = []\n",
    "Orbit = []\n",
    "LaunchSite = []\n",
    "Outcome = []\n",
    "Flights = []\n",
    "GridFins = []\n",
    "Reused = []\n",
    "Legs = []\n",
    "LandingPad = []\n",
    "Block = []\n",
    "ReusedCount = []\n",
    "Serial = []\n",
    "Longitude = []\n",
    "Latitude = []\n"
   ]
  },
  {
   "cell_type": "markdown",
   "id": "ca02aab6-8172-4344-8def-4747d71c16de",
   "metadata": {},
   "source": [
    "## Apply Helper Functions"
   ]
  },
  {
   "cell_type": "code",
   "execution_count": 7,
   "id": "4884dbcc-1abf-4e3b-84cd-46f224ac2fb8",
   "metadata": {},
   "outputs": [],
   "source": [
    "getBoosterVersion(data)\n",
    "getLaunchSite(data)\n",
    "getPayloadData(data)\n",
    "getCoreData(data)\n"
   ]
  },
  {
   "cell_type": "markdown",
   "id": "ee3d8907-769d-43c2-98c4-ff870a9ab8b3",
   "metadata": {},
   "source": [
    "## Combine Data into a DataFrame"
   ]
  },
  {
   "cell_type": "markdown",
   "id": "d62e4a52-a5d2-4230-934a-d07f8a75394a",
   "metadata": {},
   "source": [
    "Add the collected data to the main DataFrame:"
   ]
  },
  {
   "cell_type": "code",
   "execution_count": 8,
   "id": "1d7b3265-a690-4c7e-aa16-705d789d3e19",
   "metadata": {},
   "outputs": [
    {
     "name": "stdout",
     "output_type": "stream",
     "text": [
      "                     rocket                  payloads  \\\n",
      "0  5e9d0d95eda69955f709d1eb  5eb0e4b5b6c3bb0006eeb1e1   \n",
      "1  5e9d0d95eda69955f709d1eb  5eb0e4b6b6c3bb0006eeb1e2   \n",
      "3  5e9d0d95eda69955f709d1eb  5eb0e4b7b6c3bb0006eeb1e5   \n",
      "4  5e9d0d95eda69955f709d1eb  5eb0e4b7b6c3bb0006eeb1e6   \n",
      "5  5e9d0d95eda69973a809d1ec  5eb0e4b7b6c3bb0006eeb1e7   \n",
      "\n",
      "                  launchpad  \\\n",
      "0  5e9e4502f5090995de566f86   \n",
      "1  5e9e4502f5090995de566f86   \n",
      "3  5e9e4502f5090995de566f86   \n",
      "4  5e9e4502f5090995de566f86   \n",
      "5  5e9e4501f509094ba4566f84   \n",
      "\n",
      "                                                                                                                                                                                            cores  \\\n",
      "0  {'core': '5e9e289df35918033d3b2623', 'flight': 1, 'gridfins': False, 'legs': False, 'reused': False, 'landing_attempt': False, 'landing_success': None, 'landing_type': None, 'landpad': None}   \n",
      "1  {'core': '5e9e289ef35918416a3b2624', 'flight': 1, 'gridfins': False, 'legs': False, 'reused': False, 'landing_attempt': False, 'landing_success': None, 'landing_type': None, 'landpad': None}   \n",
      "3  {'core': '5e9e289ef3591855dc3b2626', 'flight': 1, 'gridfins': False, 'legs': False, 'reused': False, 'landing_attempt': False, 'landing_success': None, 'landing_type': None, 'landpad': None}   \n",
      "4  {'core': '5e9e289ef359184f103b2627', 'flight': 1, 'gridfins': False, 'legs': False, 'reused': False, 'landing_attempt': False, 'landing_success': None, 'landing_type': None, 'landpad': None}   \n",
      "5  {'core': '5e9e289ef359185f2b3b2628', 'flight': 1, 'gridfins': False, 'legs': False, 'reused': False, 'landing_attempt': False, 'landing_success': None, 'landing_type': None, 'landpad': None}   \n",
      "\n",
      "   flight_number                  date_utc        date BoosterVersion  \\\n",
      "0              1  2006-03-24T22:30:00.000Z  2006-03-24       Falcon 1   \n",
      "1              2  2007-03-21T01:10:00.000Z  2007-03-21       Falcon 1   \n",
      "3              4  2008-09-28T23:15:00.000Z  2008-09-28       Falcon 1   \n",
      "4              5  2009-07-13T03:35:00.000Z  2009-07-13       Falcon 1   \n",
      "5              6  2010-06-04T18:45:00.000Z  2010-06-04       Falcon 9   \n",
      "\n",
      "   PayloadMass Orbit       LaunchSite    Outcome  Flights  GridFins  Reused  \\\n",
      "0         20.0   LEO  Kwajalein Atoll  None None        1     False   False   \n",
      "1          NaN   LEO  Kwajalein Atoll  None None        1     False   False   \n",
      "3        165.0   LEO  Kwajalein Atoll  None None        1     False   False   \n",
      "4        200.0   LEO  Kwajalein Atoll  None None        1     False   False   \n",
      "5          NaN   LEO     CCSFS SLC 40  None None        1     False   False   \n",
      "\n",
      "    Legs LandingPad  Block  ReusedCount    Serial   Longitude   Latitude  \n",
      "0  False       None    NaN            0  Merlin1A  167.743129   9.047721  \n",
      "1  False       None    NaN            0  Merlin2A  167.743129   9.047721  \n",
      "3  False       None    NaN            0  Merlin2C  167.743129   9.047721  \n",
      "4  False       None    NaN            0  Merlin3C  167.743129   9.047721  \n",
      "5  False       None    1.0            0     B0003  -80.577366  28.561857  \n"
     ]
    }
   ],
   "source": [
    "data['BoosterVersion'] = BoosterVersion\n",
    "data['PayloadMass'] = PayloadMass\n",
    "data['Orbit'] = Orbit\n",
    "data['LaunchSite'] = LaunchSite\n",
    "data['Outcome'] = Outcome\n",
    "data['Flights'] = Flights\n",
    "data['GridFins'] = GridFins\n",
    "data['Reused'] = Reused\n",
    "data['Legs'] = Legs\n",
    "data['LandingPad'] = LandingPad\n",
    "data['Block'] = Block\n",
    "data['ReusedCount'] = ReusedCount\n",
    "data['Serial'] = Serial\n",
    "data['Longitude'] = Longitude\n",
    "data['Latitude'] = Latitude\n",
    "\n",
    "print(data.head())  # Inspect the updated DataFrame\n"
   ]
  },
  {
   "cell_type": "markdown",
   "id": "8e9ee8ce-cbed-401c-8fce-25d66e41b5cd",
   "metadata": {},
   "source": [
    "## Filter the DataFrame to Include Only Falcon 9 Launches"
   ]
  },
  {
   "cell_type": "markdown",
   "id": "e1ed799d-b5b1-447d-bd49-6f74682e88a9",
   "metadata": {},
   "source": [
    "First, filter the DataFrame to remove Falcon 1 launches."
   ]
  },
  {
   "cell_type": "code",
   "execution_count": 11,
   "id": "196257dc-9795-4d1f-a98f-ab13f204da24",
   "metadata": {},
   "outputs": [],
   "source": [
    "# Filter the DataFrame to only include Falcon 9 launches and make a copy\n",
    "data_falcon9 = data[data['BoosterVersion'] != 'Falcon 1'].copy()\n",
    "\n",
    "# Reset the FlightNumber column\n",
    "data_falcon9['FlightNumber'] = list(range(1, data_falcon9.shape[0] + 1))\n",
    "\n"
   ]
  },
  {
   "cell_type": "markdown",
   "id": "1b604902-772f-4641-85ec-4289a597f530",
   "metadata": {},
   "source": [
    "## Check for Missing Values"
   ]
  },
  {
   "cell_type": "code",
   "execution_count": 12,
   "id": "226ad205-252d-48bf-b586-580f77aedf99",
   "metadata": {},
   "outputs": [
    {
     "name": "stdout",
     "output_type": "stream",
     "text": [
      "rocket             0\n",
      "payloads           0\n",
      "launchpad          0\n",
      "cores              0\n",
      "flight_number      0\n",
      "date_utc           0\n",
      "date               0\n",
      "BoosterVersion     0\n",
      "PayloadMass        5\n",
      "Orbit              0\n",
      "LaunchSite         0\n",
      "Outcome            0\n",
      "Flights            0\n",
      "GridFins           0\n",
      "Reused             0\n",
      "Legs               0\n",
      "LandingPad        26\n",
      "Block              0\n",
      "ReusedCount        0\n",
      "Serial             0\n",
      "Longitude          0\n",
      "Latitude           0\n",
      "FlightNumber       0\n",
      "dtype: int64\n"
     ]
    }
   ],
   "source": [
    "# Check for missing values\n",
    "missing_values = data_falcon9.isnull().sum()\n",
    "print(missing_values)\n"
   ]
  },
  {
   "cell_type": "markdown",
   "id": "37004204-8b9c-407d-84f8-5fa6605f9ce3",
   "metadata": {},
   "source": [
    "##  Handle Missing Values in the PayloadMass Column"
   ]
  },
  {
   "cell_type": "markdown",
   "id": "41161581-3a04-4396-8246-20c117ca79f4",
   "metadata": {},
   "source": [
    "Replace missing values (np.nan) in the PayloadMass column with the mean value:"
   ]
  },
  {
   "cell_type": "code",
   "execution_count": 15,
   "id": "258acece-143b-4554-a42d-b7a6686e5caf",
   "metadata": {},
   "outputs": [],
   "source": [
    "import numpy as np\n",
    "\n",
    "# Calculate the mean of the PayloadMass column\n",
    "payload_mass_mean = data_falcon9['PayloadMass'].mean()\n",
    "\n",
    "# Replace np.nan values with the mean value (avoid inplace=True)\n",
    "data_falcon9['PayloadMass'] = data_falcon9['PayloadMass'].replace(np.nan, payload_mass_mean)\n",
    "\n",
    "\n"
   ]
  },
  {
   "cell_type": "markdown",
   "id": "8ff77270-01ef-4caa-aa8b-d2f7cf11ebf6",
   "metadata": {},
   "source": [
    "## Export the Cleaned DataFrame to a CSV File"
   ]
  },
  {
   "cell_type": "code",
   "execution_count": 16,
   "id": "e06d16e9-219a-489e-a249-96dd2780f0d5",
   "metadata": {},
   "outputs": [
    {
     "name": "stdout",
     "output_type": "stream",
     "text": [
      "Data has been saved to 'dataset_part_1.csv'.\n"
     ]
    }
   ],
   "source": [
    "# Export the cleaned DataFrame to a CSV file\n",
    "data_falcon9.to_csv('dataset_part_1.csv', index=False)\n",
    "print(\"Data has been saved to 'dataset_part_1.csv'.\")\n"
   ]
  }
 ],
 "metadata": {
  "kernelspec": {
   "display_name": "Python 3 (ipykernel)",
   "language": "python",
   "name": "python3"
  },
  "language_info": {
   "codemirror_mode": {
    "name": "ipython",
    "version": 3
   },
   "file_extension": ".py",
   "mimetype": "text/x-python",
   "name": "python",
   "nbconvert_exporter": "python",
   "pygments_lexer": "ipython3",
   "version": "3.11.4"
  }
 },
 "nbformat": 4,
 "nbformat_minor": 5
}
