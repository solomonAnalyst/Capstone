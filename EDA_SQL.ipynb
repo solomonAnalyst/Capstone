{
 "cells": [
  {
   "cell_type": "markdown",
   "id": "200b4325-f5a6-4a67-8f32-6a48178fa4fd",
   "metadata": {},
   "source": [
    "# Assignment: SQL Notebook for Peer Assignment"
   ]
  },
  {
   "cell_type": "markdown",
   "id": "dd56802c-37ed-470b-9a51-3d7ab44cfc27",
   "metadata": {},
   "source": [
    "### Overview of the DataSet"
   ]
  },
  {
   "cell_type": "markdown",
   "id": "ac7d4e72-3cc1-477e-af6e-68c08c99c001",
   "metadata": {},
   "source": [
    "SpaceX has gained worldwide attention for a series of historic milestones.\n",
    "\n",
    "It is the only private company ever to return a spacecraft from low-earth orbit, which it first accomplished in December 2010. SpaceX advertises Falcon 9 rocket launches on its website with a cost of 62 million dollars wheras other providers cost upward of 165 million dollars each, much of the savings is because Space X can reuse the first stage.\n",
    "\n",
    "Therefore if we can determine if the first stage will land, we can determine the cost of a launch.\n",
    "\n",
    "This information can be used if an alternate company wants to bid against SpaceX for a rocket launch.\n",
    "\n",
    "This dataset includes a record for each payload carried during a SpaceX mission into outer space."
   ]
  },
  {
   "cell_type": "markdown",
   "id": "f8e03916-fb4f-4024-b088-5ed2a06b70da",
   "metadata": {},
   "source": [
    "## Download the datasets"
   ]
  },
  {
   "cell_type": "code",
   "execution_count": 1,
   "id": "3abf44b5-28d3-4368-8df0-a8e6fe5fa3e0",
   "metadata": {},
   "outputs": [
    {
     "data": {
      "text/html": [
       "<div>\n",
       "<style scoped>\n",
       "    .dataframe tbody tr th:only-of-type {\n",
       "        vertical-align: middle;\n",
       "    }\n",
       "\n",
       "    .dataframe tbody tr th {\n",
       "        vertical-align: top;\n",
       "    }\n",
       "\n",
       "    .dataframe thead th {\n",
       "        text-align: right;\n",
       "    }\n",
       "</style>\n",
       "<table border=\"1\" class=\"dataframe\">\n",
       "  <thead>\n",
       "    <tr style=\"text-align: right;\">\n",
       "      <th></th>\n",
       "      <th>Date</th>\n",
       "      <th>Time (UTC)</th>\n",
       "      <th>Booster_Version</th>\n",
       "      <th>Launch_Site</th>\n",
       "      <th>Payload</th>\n",
       "      <th>PAYLOAD_MASS__KG_</th>\n",
       "      <th>Orbit</th>\n",
       "      <th>Customer</th>\n",
       "      <th>Mission_Outcome</th>\n",
       "      <th>Landing_Outcome</th>\n",
       "    </tr>\n",
       "  </thead>\n",
       "  <tbody>\n",
       "    <tr>\n",
       "      <th>0</th>\n",
       "      <td>2010-06-04</td>\n",
       "      <td>18:45:00</td>\n",
       "      <td>F9 v1.0  B0003</td>\n",
       "      <td>CCAFS LC-40</td>\n",
       "      <td>Dragon Spacecraft Qualification Unit</td>\n",
       "      <td>0</td>\n",
       "      <td>LEO</td>\n",
       "      <td>SpaceX</td>\n",
       "      <td>Success</td>\n",
       "      <td>Failure (parachute)</td>\n",
       "    </tr>\n",
       "    <tr>\n",
       "      <th>1</th>\n",
       "      <td>2010-12-08</td>\n",
       "      <td>15:43:00</td>\n",
       "      <td>F9 v1.0  B0004</td>\n",
       "      <td>CCAFS LC-40</td>\n",
       "      <td>Dragon demo flight C1, two CubeSats, barrel of...</td>\n",
       "      <td>0</td>\n",
       "      <td>LEO (ISS)</td>\n",
       "      <td>NASA (COTS) NRO</td>\n",
       "      <td>Success</td>\n",
       "      <td>Failure (parachute)</td>\n",
       "    </tr>\n",
       "    <tr>\n",
       "      <th>2</th>\n",
       "      <td>2012-05-22</td>\n",
       "      <td>7:44:00</td>\n",
       "      <td>F9 v1.0  B0005</td>\n",
       "      <td>CCAFS LC-40</td>\n",
       "      <td>Dragon demo flight C2</td>\n",
       "      <td>525</td>\n",
       "      <td>LEO (ISS)</td>\n",
       "      <td>NASA (COTS)</td>\n",
       "      <td>Success</td>\n",
       "      <td>No attempt</td>\n",
       "    </tr>\n",
       "    <tr>\n",
       "      <th>3</th>\n",
       "      <td>2012-10-08</td>\n",
       "      <td>0:35:00</td>\n",
       "      <td>F9 v1.0  B0006</td>\n",
       "      <td>CCAFS LC-40</td>\n",
       "      <td>SpaceX CRS-1</td>\n",
       "      <td>500</td>\n",
       "      <td>LEO (ISS)</td>\n",
       "      <td>NASA (CRS)</td>\n",
       "      <td>Success</td>\n",
       "      <td>No attempt</td>\n",
       "    </tr>\n",
       "    <tr>\n",
       "      <th>4</th>\n",
       "      <td>2013-03-01</td>\n",
       "      <td>15:10:00</td>\n",
       "      <td>F9 v1.0  B0007</td>\n",
       "      <td>CCAFS LC-40</td>\n",
       "      <td>SpaceX CRS-2</td>\n",
       "      <td>677</td>\n",
       "      <td>LEO (ISS)</td>\n",
       "      <td>NASA (CRS)</td>\n",
       "      <td>Success</td>\n",
       "      <td>No attempt</td>\n",
       "    </tr>\n",
       "  </tbody>\n",
       "</table>\n",
       "</div>"
      ],
      "text/plain": [
       "         Date Time (UTC) Booster_Version  Launch_Site  \\\n",
       "0  2010-06-04   18:45:00  F9 v1.0  B0003  CCAFS LC-40   \n",
       "1  2010-12-08   15:43:00  F9 v1.0  B0004  CCAFS LC-40   \n",
       "2  2012-05-22    7:44:00  F9 v1.0  B0005  CCAFS LC-40   \n",
       "3  2012-10-08    0:35:00  F9 v1.0  B0006  CCAFS LC-40   \n",
       "4  2013-03-01   15:10:00  F9 v1.0  B0007  CCAFS LC-40   \n",
       "\n",
       "                                             Payload  PAYLOAD_MASS__KG_  \\\n",
       "0               Dragon Spacecraft Qualification Unit                  0   \n",
       "1  Dragon demo flight C1, two CubeSats, barrel of...                  0   \n",
       "2                              Dragon demo flight C2                525   \n",
       "3                                       SpaceX CRS-1                500   \n",
       "4                                       SpaceX CRS-2                677   \n",
       "\n",
       "       Orbit         Customer Mission_Outcome      Landing_Outcome  \n",
       "0        LEO           SpaceX         Success  Failure (parachute)  \n",
       "1  LEO (ISS)  NASA (COTS) NRO         Success  Failure (parachute)  \n",
       "2  LEO (ISS)      NASA (COTS)         Success           No attempt  \n",
       "3  LEO (ISS)       NASA (CRS)         Success           No attempt  \n",
       "4  LEO (ISS)       NASA (CRS)         Success           No attempt  "
      ]
     },
     "execution_count": 1,
     "metadata": {},
     "output_type": "execute_result"
    }
   ],
   "source": [
    "import pandas as pd\n",
    "df = pd.read_csv(\"https://cf-courses-data.s3.us.cloud-object-storage.appdomain.cloud/IBM-DS0321EN-SkillsNetwork/labs/module_2/data/Spacex.csv\")\n",
    "df.head()"
   ]
  },
  {
   "cell_type": "markdown",
   "id": "5897920c-4ec9-4ece-909c-5fb0f7dac6d9",
   "metadata": {},
   "source": [
    "## Connect to the database"
   ]
  },
  {
   "cell_type": "code",
   "execution_count": 2,
   "id": "eedc999f-0c97-4ba9-bb7d-a52bd3338465",
   "metadata": {},
   "outputs": [],
   "source": [
    "%load_ext sql"
   ]
  },
  {
   "cell_type": "code",
   "execution_count": 3,
   "id": "1643735c-581a-4ce6-9a84-d0309d7f560f",
   "metadata": {},
   "outputs": [],
   "source": [
    "import csv, sqlite3\n",
    "import prettytable\n",
    "prettytable.DEFAULT = 'DEFAULT'\n",
    "\n",
    "con = sqlite3.connect(\"my_data1.db\")\n",
    "cur = con.cursor()"
   ]
  },
  {
   "cell_type": "code",
   "execution_count": 4,
   "id": "508da28b-694c-426e-bd96-ebe82c85a2fd",
   "metadata": {},
   "outputs": [],
   "source": [
    "%sql sqlite:///my_data1.db"
   ]
  },
  {
   "cell_type": "code",
   "execution_count": 5,
   "id": "30eb3ed3-90ef-4593-8879-b344cd6800de",
   "metadata": {},
   "outputs": [
    {
     "data": {
      "text/plain": [
       "101"
      ]
     },
     "execution_count": 5,
     "metadata": {},
     "output_type": "execute_result"
    }
   ],
   "source": [
    "df.to_sql(\"SPACEXTBL\", con, if_exists='replace', index=False,method=\"multi\")"
   ]
  },
  {
   "cell_type": "code",
   "execution_count": 6,
   "id": "13ab9b84-4227-44ac-874a-352fd9e4f884",
   "metadata": {},
   "outputs": [
    {
     "name": "stdout",
     "output_type": "stream",
     "text": [
      " * sqlite:///my_data1.db\n",
      "Done.\n"
     ]
    },
    {
     "data": {
      "text/plain": [
       "[]"
      ]
     },
     "execution_count": 6,
     "metadata": {},
     "output_type": "execute_result"
    }
   ],
   "source": [
    "# DROP THE TABLE IF EXISTS\n",
    "\n",
    "%sql DROP TABLE IF EXISTS SPACEXTABLE;"
   ]
  },
  {
   "cell_type": "code",
   "execution_count": 7,
   "id": "733c07bc-cb34-4e64-9103-34468fa9b002",
   "metadata": {},
   "outputs": [
    {
     "name": "stdout",
     "output_type": "stream",
     "text": [
      " * sqlite:///my_data1.db\n",
      "Done.\n"
     ]
    },
    {
     "data": {
      "text/plain": [
       "[]"
      ]
     },
     "execution_count": 7,
     "metadata": {},
     "output_type": "execute_result"
    }
   ],
   "source": [
    "%sql create table SPACEXTABLE as select * from SPACEXTBL where Date is not null"
   ]
  },
  {
   "cell_type": "markdown",
   "id": "9c120612-60a5-4c55-bf01-5922e944c211",
   "metadata": {},
   "source": [
    "## Task 1"
   ]
  },
  {
   "cell_type": "markdown",
   "id": "c7ed0fee-d162-4710-8833-103813854fc1",
   "metadata": {},
   "source": [
    "Display the names of the unique launch sites in the space mission"
   ]
  },
  {
   "cell_type": "code",
   "execution_count": 10,
   "id": "868f91b9-b0dc-42b0-b8bc-04d94c97533d",
   "metadata": {},
   "outputs": [
    {
     "name": "stdout",
     "output_type": "stream",
     "text": [
      "+---------------------+\n",
      "| Unique Launch Sites |\n",
      "+---------------------+\n",
      "|     CCAFS LC-40     |\n",
      "|     VAFB SLC-4E     |\n",
      "|      KSC LC-39A     |\n",
      "|     CCAFS SLC-40    |\n",
      "+---------------------+\n"
     ]
    }
   ],
   "source": [
    "import sqlite3\n",
    "import pandas as pd\n",
    "import prettytable\n",
    "\n",
    "# Connect to the database\n",
    "con = sqlite3.connect(\"my_data1.db\")\n",
    "cur = con.cursor()\n",
    "\n",
    "# Assuming the data has already been loaded into the SPACEXTBL table\n",
    "# Task 1: Display the names of the unique launch sites\n",
    "query = \"SELECT DISTINCT Launch_Site FROM SPACEXTBL;\"\n",
    "cur.execute(query)\n",
    "\n",
    "# Fetch results\n",
    "unique_launch_sites = cur.fetchall()\n",
    "\n",
    "# Display results in a readable format using PrettyTable\n",
    "table = prettytable.PrettyTable([\"Unique Launch Sites\"])\n",
    "for site in unique_launch_sites:\n",
    "    table.add_row(site)\n",
    "\n",
    "print(table)\n",
    "\n",
    "# Close the connection\n",
    "con.close()\n"
   ]
  },
  {
   "cell_type": "markdown",
   "id": "f0a41493-035f-45f1-a137-f27a7d1cea3a",
   "metadata": {},
   "source": [
    "## Task 2"
   ]
  },
  {
   "cell_type": "markdown",
   "id": "08ffee36-d128-44a6-bc86-ee14d4287467",
   "metadata": {},
   "source": [
    "Display 5 records where launch sites begin with the string 'CCA"
   ]
  },
  {
   "cell_type": "code",
   "execution_count": 11,
   "id": "9c38455b-49c5-4ffb-8813-e08a4c6543a3",
   "metadata": {},
   "outputs": [
    {
     "name": "stdout",
     "output_type": "stream",
     "text": [
      "+------------+------------+-----------------+-------------+---------------------------------------------------------------+-------------------+-----------+-----------------+-----------------+---------------------+\n",
      "|    Date    | Time (UTC) | Booster_Version | Launch_Site |                            Payload                            | PAYLOAD_MASS__KG_ |   Orbit   |     Customer    | Mission_Outcome |   Landing_Outcome   |\n",
      "+------------+------------+-----------------+-------------+---------------------------------------------------------------+-------------------+-----------+-----------------+-----------------+---------------------+\n",
      "| 2010-06-04 |  18:45:00  |  F9 v1.0  B0003 | CCAFS LC-40 |              Dragon Spacecraft Qualification Unit             |         0         |    LEO    |      SpaceX     |     Success     | Failure (parachute) |\n",
      "| 2010-12-08 |  15:43:00  |  F9 v1.0  B0004 | CCAFS LC-40 | Dragon demo flight C1, two CubeSats, barrel of Brouere cheese |         0         | LEO (ISS) | NASA (COTS) NRO |     Success     | Failure (parachute) |\n",
      "| 2012-05-22 |  7:44:00   |  F9 v1.0  B0005 | CCAFS LC-40 |                     Dragon demo flight C2                     |        525        | LEO (ISS) |   NASA (COTS)   |     Success     |      No attempt     |\n",
      "| 2012-10-08 |  0:35:00   |  F9 v1.0  B0006 | CCAFS LC-40 |                          SpaceX CRS-1                         |        500        | LEO (ISS) |    NASA (CRS)   |     Success     |      No attempt     |\n",
      "| 2013-03-01 |  15:10:00  |  F9 v1.0  B0007 | CCAFS LC-40 |                          SpaceX CRS-2                         |        677        | LEO (ISS) |    NASA (CRS)   |     Success     |      No attempt     |\n",
      "+------------+------------+-----------------+-------------+---------------------------------------------------------------+-------------------+-----------+-----------------+-----------------+---------------------+\n"
     ]
    }
   ],
   "source": [
    "import sqlite3\n",
    "import prettytable\n",
    "\n",
    "# Connect to the SQLite database\n",
    "con = sqlite3.connect(\"my_data1.db\")\n",
    "cur = con.cursor()\n",
    "\n",
    "# Task 2: Display 5 records where launch sites begin with 'CCA'\n",
    "query = \"\"\"\n",
    "SELECT * \n",
    "FROM SPACEXTBL \n",
    "WHERE Launch_Site LIKE 'CCA%' \n",
    "LIMIT 5;\n",
    "\"\"\"\n",
    "cur.execute(query)\n",
    "\n",
    "# Fetch the results\n",
    "records = cur.fetchall()\n",
    "\n",
    "# Display results in a readable format using PrettyTable\n",
    "# Assuming SPACEXTBL has columns, adjust as necessary\n",
    "column_names = [description[0] for description in cur.description]  # Get column names dynamically\n",
    "table = prettytable.PrettyTable(column_names)\n",
    "\n",
    "for record in records:\n",
    "    table.add_row(record)\n",
    "\n",
    "print(table)\n",
    "\n",
    "# Close the connection\n",
    "con.close()\n"
   ]
  },
  {
   "cell_type": "markdown",
   "id": "a79a6202-0e04-464c-8676-c47f288a3779",
   "metadata": {},
   "source": [
    "## Task 3"
   ]
  },
  {
   "cell_type": "markdown",
   "id": "906c466f-73a0-4ea6-9cd6-ff53a2f56f84",
   "metadata": {},
   "source": [
    "Display the total payload mass carried by boosters launched by NASA (CRS)"
   ]
  },
  {
   "cell_type": "code",
   "execution_count": 18,
   "id": "0f43c520-dcc3-4391-81ca-e98df293be7c",
   "metadata": {},
   "outputs": [
    {
     "name": "stdout",
     "output_type": "stream",
     "text": [
      "Total Payload Mass carried by NASA (CRS) boosters: 48213 kg\n"
     ]
    }
   ],
   "source": [
    "import sqlite3\n",
    "\n",
    "# Connect to the SQLite database\n",
    "con = sqlite3.connect(\"my_data1.db\")\n",
    "cur = con.cursor()\n",
    "\n",
    "# Task 3: Display the total payload mass carried by boosters launched by NASA (CRS)\n",
    "query = \"\"\"\n",
    "SELECT SUM(PAYLOAD_MASS__KG_) AS Total_Payload_Mass\n",
    "FROM SPACEXTBL\n",
    "WHERE Customer LIKE '%NASA (CRS)%';\n",
    "\"\"\"\n",
    "cur.execute(query)\n",
    "\n",
    "# Fetch the result\n",
    "result = cur.fetchone()\n",
    "\n",
    "# Display the result\n",
    "if result[0] is not None:\n",
    "    print(f\"Total Payload Mass carried by NASA (CRS) boosters: {result[0]} kg\")\n",
    "else:\n",
    "    print(\"No data found for boosters launched by NASA (CRS).\")\n",
    "\n",
    "# Close the connection\n",
    "con.close()\n"
   ]
  },
  {
   "cell_type": "markdown",
   "id": "43cfa5b3-63c0-4c82-b5fc-d6132d606d06",
   "metadata": {},
   "source": [
    "## Task 4"
   ]
  },
  {
   "cell_type": "markdown",
   "id": "a9be60d5-d677-4f41-8ba4-c448fac7ef75",
   "metadata": {},
   "source": [
    "Display average payload mass carried by booster version F9 v1.1\n"
   ]
  },
  {
   "cell_type": "code",
   "execution_count": 20,
   "id": "8426973c-293d-4c58-a2f0-fad7bd637116",
   "metadata": {},
   "outputs": [
    {
     "name": "stdout",
     "output_type": "stream",
     "text": [
      "Average Payload Mass carried by booster version 'F9 v1.1': 2928.40 kg\n"
     ]
    }
   ],
   "source": [
    "import sqlite3\n",
    "\n",
    "# Connect to the SQLite database\n",
    "con = sqlite3.connect(\"my_data1.db\")\n",
    "cur = con.cursor()\n",
    "\n",
    "# Display average payload mass carried by booster version 'F9 v1.1'\n",
    "query = \"\"\"\n",
    "SELECT AVG(PAYLOAD_MASS__KG_) AS Average_Payload_Mass\n",
    "FROM SPACEXTBL\n",
    "WHERE Booster_Version = 'F9 v1.1';\n",
    "\"\"\"\n",
    "cur.execute(query)\n",
    "\n",
    "# Fetch the result\n",
    "result = cur.fetchone()\n",
    "\n",
    "# Display the result\n",
    "if result[0] is not None:\n",
    "    print(f\"Average Payload Mass carried by booster version 'F9 v1.1': {result[0]:.2f} kg\")\n",
    "else:\n",
    "    print(\"No data found for booster version 'F9 v1.1'.\")\n",
    "\n",
    "# Close the connection\n",
    "con.close()\n"
   ]
  },
  {
   "cell_type": "markdown",
   "id": "27fd24d3-0f5e-424c-abb4-b461f0b39f44",
   "metadata": {},
   "source": [
    "## Task 5"
   ]
  },
  {
   "cell_type": "markdown",
   "id": "2ef61397-fd44-4975-b8db-9242031a15a1",
   "metadata": {},
   "source": [
    "List the date when the first succesful landing outcome in ground pad was acheived."
   ]
  },
  {
   "cell_type": "code",
   "execution_count": 21,
   "id": "959fb92a-542a-4101-92e6-1ab8806ee38f",
   "metadata": {},
   "outputs": [
    {
     "name": "stdout",
     "output_type": "stream",
     "text": [
      "The first successful landing outcome on a ground pad was achieved on: 2015-12-22\n"
     ]
    }
   ],
   "source": [
    "import sqlite3\n",
    "\n",
    "# Connect to the SQLite database\n",
    "con = sqlite3.connect(\"my_data1.db\")\n",
    "cur = con.cursor()\n",
    "\n",
    "#  Find the date of the first successful landing outcome on a ground pad\n",
    "query = \"\"\"\n",
    "SELECT MIN(Date) AS First_Successful_Landing\n",
    "FROM SPACEXTBL\n",
    "WHERE Landing_Outcome = 'Success (ground pad)';\n",
    "\"\"\"\n",
    "cur.execute(query)\n",
    "\n",
    "# Fetch the result\n",
    "result = cur.fetchone()\n",
    "\n",
    "# Display the result\n",
    "if result[0] is not None:\n",
    "    print(f\"The first successful landing outcome on a ground pad was achieved on: {result[0]}\")\n",
    "else:\n",
    "    print(\"No successful landing outcome on a ground pad found in the data.\")\n",
    "\n",
    "# Close the connection\n",
    "con.close()\n"
   ]
  },
  {
   "cell_type": "markdown",
   "id": "03b76c3c-4751-4bbb-912f-ae6f1000fd9c",
   "metadata": {},
   "source": [
    "## Task 6"
   ]
  },
  {
   "cell_type": "markdown",
   "id": "b5d1382d-76dd-445e-b32b-a5973c65c726",
   "metadata": {},
   "source": [
    "List the names of the boosters which have success in drone ship and have payload mass greater than 4000 but less than 6000\n"
   ]
  },
  {
   "cell_type": "code",
   "execution_count": 22,
   "id": "73e27200-8b2e-467b-a20a-018a18844b8f",
   "metadata": {},
   "outputs": [
    {
     "name": "stdout",
     "output_type": "stream",
     "text": [
      "Boosters with 'Success (drone ship)' and payload mass between 4000 and 6000 kg:\n",
      "F9 FT B1022\n",
      "F9 FT B1026\n",
      "F9 FT  B1021.2\n",
      "F9 FT  B1031.2\n"
     ]
    }
   ],
   "source": [
    "import sqlite3\n",
    "\n",
    "# Connect to the SQLite database\n",
    "con = sqlite3.connect(\"my_data1.db\")\n",
    "cur = con.cursor()\n",
    "\n",
    "#  List the names of boosters with 'Success (drone ship)' and payload mass between 4000 and 6000\n",
    "query = \"\"\"\n",
    "SELECT Booster_Version\n",
    "FROM SPACEXTBL\n",
    "WHERE Landing_Outcome = 'Success (drone ship)'\n",
    "  AND PAYLOAD_MASS__KG_ > 4000\n",
    "  AND PAYLOAD_MASS__KG_ < 6000;\n",
    "\"\"\"\n",
    "cur.execute(query)\n",
    "\n",
    "# Fetch all matching results\n",
    "results = cur.fetchall()\n",
    "\n",
    "# Display the results\n",
    "if results:\n",
    "    print(\"Boosters with 'Success (drone ship)' and payload mass between 4000 and 6000 kg:\")\n",
    "    for row in results:\n",
    "        print(row[0])\n",
    "else:\n",
    "    print(\"No boosters found with 'Success (drone ship)' and payload mass between 4000 and 6000 kg.\")\n",
    "\n",
    "# Close the connection\n",
    "con.close()\n"
   ]
  },
  {
   "cell_type": "markdown",
   "id": "78483a22-f056-4def-a666-8397a2d21e99",
   "metadata": {},
   "source": [
    "## Task 7"
   ]
  },
  {
   "cell_type": "markdown",
   "id": "5e06290b-b2f7-410b-b680-a15a45635761",
   "metadata": {},
   "source": [
    "List the total number of successful and failure mission outcomes"
   ]
  },
  {
   "cell_type": "code",
   "execution_count": null,
   "id": "19a80d8b-fa1a-4bb7-bba4-66b0b5d7c431",
   "metadata": {},
   "outputs": [],
   "source": []
  },
  {
   "cell_type": "markdown",
   "id": "e8a054f4-4856-4d30-93a6-6b5afc1455d3",
   "metadata": {},
   "source": [
    "## Task 8"
   ]
  },
  {
   "cell_type": "markdown",
   "id": "f6f9465a-7bb5-4619-a537-62de6b9384d6",
   "metadata": {},
   "source": [
    "List the names of the booster_versions which have carried the maximum payload mass. Use a subquery\n"
   ]
  },
  {
   "cell_type": "code",
   "execution_count": 23,
   "id": "f92bef46-90ff-4b25-a5aa-e903c3c9d6d3",
   "metadata": {},
   "outputs": [
    {
     "name": "stdout",
     "output_type": "stream",
     "text": [
      "Total number of mission outcomes:\n",
      "Failure (in flight): 1\n",
      "Success: 98\n",
      "Success : 1\n",
      "Success (payload status unclear): 1\n"
     ]
    }
   ],
   "source": [
    "import sqlite3\n",
    "\n",
    "# Connect to the SQLite database\n",
    "con = sqlite3.connect(\"my_data1.db\")\n",
    "cur = con.cursor()\n",
    "\n",
    "#  List the total number of successful and failed mission outcomes\n",
    "query = \"\"\"\n",
    "SELECT Mission_Outcome, COUNT(*) AS Total_Count\n",
    "FROM SPACEXTBL\n",
    "GROUP BY Mission_Outcome;\n",
    "\"\"\"\n",
    "cur.execute(query)\n",
    "\n",
    "# Fetch all results\n",
    "results = cur.fetchall()\n",
    "\n",
    "# Display the results\n",
    "if results:\n",
    "    print(\"Total number of mission outcomes:\")\n",
    "    for row in results:\n",
    "        print(f\"{row[0]}: {row[1]}\")\n",
    "else:\n",
    "    print(\"No mission outcomes found in the data.\")\n",
    "\n",
    "# Close the connection\n",
    "con.close()\n"
   ]
  },
  {
   "cell_type": "code",
   "execution_count": 24,
   "id": "bcb24767-b914-49a5-904b-d22caa14b016",
   "metadata": {},
   "outputs": [
    {
     "name": "stdout",
     "output_type": "stream",
     "text": [
      "Booster versions that carried the maximum payload mass:\n",
      "F9 B5 B1048.4\n",
      "F9 B5 B1049.4\n",
      "F9 B5 B1051.3\n",
      "F9 B5 B1056.4\n",
      "F9 B5 B1048.5\n",
      "F9 B5 B1051.4\n",
      "F9 B5 B1049.5\n",
      "F9 B5 B1060.2 \n",
      "F9 B5 B1058.3 \n",
      "F9 B5 B1051.6\n",
      "F9 B5 B1060.3\n",
      "F9 B5 B1049.7 \n"
     ]
    }
   ],
   "source": [
    "import sqlite3\n",
    "\n",
    "# Connect to the SQLite database\n",
    "con = sqlite3.connect(\"my_data1.db\")\n",
    "cur = con.cursor()\n",
    "\n",
    "#  List the names of Booster_Version that carried the maximum payload mass using a subquery\n",
    "query = \"\"\"\n",
    "SELECT Booster_Version\n",
    "FROM SPACEXTBL\n",
    "WHERE PAYLOAD_MASS__KG_ = (\n",
    "    SELECT MAX(PAYLOAD_MASS__KG_)\n",
    "    FROM SPACEXTBL\n",
    ");\n",
    "\"\"\"\n",
    "cur.execute(query)\n",
    "\n",
    "# Fetch all matching results\n",
    "results = cur.fetchall()\n",
    "\n",
    "# Display the results\n",
    "if results:\n",
    "    print(\"Booster versions that carried the maximum payload mass:\")\n",
    "    for row in results:\n",
    "        print(row[0])\n",
    "else:\n",
    "    print(\"No data found for maximum payload mass.\")\n",
    "\n",
    "# Close the connection\n",
    "con.close()\n"
   ]
  },
  {
   "cell_type": "markdown",
   "id": "74614ac8-5fc5-47ce-a149-fa394b8d191a",
   "metadata": {},
   "source": [
    "## Task 9"
   ]
  },
  {
   "cell_type": "markdown",
   "id": "a364b924-c43e-4bf6-805a-8c4d0ea7018b",
   "metadata": {},
   "source": [
    "List the records which will display the month names, failure landing_outcomes in drone ship ,booster versions, launch_site for the months in year 2015."
   ]
  },
  {
   "cell_type": "code",
   "execution_count": 25,
   "id": "681373cd-9919-4d45-b2fe-e194c1317338",
   "metadata": {},
   "outputs": [
    {
     "name": "stdout",
     "output_type": "stream",
     "text": [
      "Records for failure landing outcomes on a drone ship in 2015:\n",
      "Month | Landing Outcome | Booster Version | Launch Site\n",
      "01 | Failure (drone ship) | F9 v1.1 B1012 | CCAFS LC-40\n",
      "04 | Failure (drone ship) | F9 v1.1 B1015 | CCAFS LC-40\n"
     ]
    }
   ],
   "source": [
    "import sqlite3\n",
    "\n",
    "# Connect to the SQLite database\n",
    "con = sqlite3.connect(\"my_data1.db\")\n",
    "cur = con.cursor()\n",
    "\n",
    "#  Query to display month names, failure landing outcomes on a drone ship, booster versions, and launch sites for 2015\n",
    "query = \"\"\"\n",
    "SELECT \n",
    "    substr(Date, 6, 2) AS Month,\n",
    "    Landing_Outcome,\n",
    "    Booster_Version,\n",
    "    Launch_Site\n",
    "FROM SPACEXTBL\n",
    "WHERE Landing_Outcome LIKE 'Failure (drone ship)'\n",
    "  AND substr(Date, 1, 4) = '2015';\n",
    "\"\"\"\n",
    "cur.execute(query)\n",
    "\n",
    "# Fetch all matching results\n",
    "results = cur.fetchall()\n",
    "\n",
    "# Display the results\n",
    "if results:\n",
    "    print(\"Records for failure landing outcomes on a drone ship in 2015:\")\n",
    "    print(\"Month | Landing Outcome | Booster Version | Launch Site\")\n",
    "    for row in results:\n",
    "        print(f\"{row[0]} | {row[1]} | {row[2]} | {row[3]}\")\n",
    "else:\n",
    "    print(\"No records found for failure landing outcomes on a drone ship in 2015.\")\n",
    "\n",
    "# Close the connection\n",
    "con.close()\n"
   ]
  },
  {
   "cell_type": "markdown",
   "id": "6a6256c8-7e3b-488d-b9b1-82b8c0c5fc1e",
   "metadata": {},
   "source": [
    "## Task 10"
   ]
  },
  {
   "cell_type": "markdown",
   "id": "0df5e67b-de07-4c04-bce7-9b2587386a2d",
   "metadata": {},
   "source": [
    "Rank the count of landing outcomes (such as Failure (drone ship) or Success (ground pad)) between the date 2010-06-04 and 2017-03-20, in descending order."
   ]
  },
  {
   "cell_type": "code",
   "execution_count": 26,
   "id": "e6e01d35-24bc-492c-9392-b7289de2e91b",
   "metadata": {},
   "outputs": [
    {
     "name": "stdout",
     "output_type": "stream",
     "text": [
      "Ranking of landing outcomes between 2010-06-04 and 2017-03-20:\n",
      "Landing Outcome | Count\n",
      "No attempt | 10\n",
      "Success (drone ship) | 5\n",
      "Failure (drone ship) | 5\n",
      "Success (ground pad) | 3\n",
      "Controlled (ocean) | 3\n",
      "Uncontrolled (ocean) | 2\n",
      "Failure (parachute) | 2\n",
      "Precluded (drone ship) | 1\n"
     ]
    }
   ],
   "source": [
    "import sqlite3\n",
    "\n",
    "# Connect to the SQLite database\n",
    "con = sqlite3.connect(\"my_data1.db\")\n",
    "cur = con.cursor()\n",
    "\n",
    "#  Rank the count of landing outcomes between the given dates\n",
    "query = \"\"\"\n",
    "SELECT \n",
    "    Landing_Outcome, \n",
    "    COUNT(*) AS Outcome_Count\n",
    "FROM SPACEXTBL\n",
    "WHERE Date BETWEEN '2010-06-04' AND '2017-03-20'\n",
    "GROUP BY Landing_Outcome\n",
    "ORDER BY Outcome_Count DESC;\n",
    "\"\"\"\n",
    "cur.execute(query)\n",
    "\n",
    "# Fetch all matching results\n",
    "results = cur.fetchall()\n",
    "\n",
    "# Display the results\n",
    "if results:\n",
    "    print(\"Ranking of landing outcomes between 2010-06-04 and 2017-03-20:\")\n",
    "    print(\"Landing Outcome | Count\")\n",
    "    for row in results:\n",
    "        print(f\"{row[0]} | {row[1]}\")\n",
    "else:\n",
    "    print(\"No landing outcomes found between the specified dates.\")\n",
    "\n",
    "# Close the connection\n",
    "con.close()\n"
   ]
  },
  {
   "cell_type": "code",
   "execution_count": null,
   "id": "947ae63d-99c6-472b-a478-aa7a4a1fa941",
   "metadata": {},
   "outputs": [],
   "source": []
  }
 ],
 "metadata": {
  "kernelspec": {
   "display_name": "Python 3 (ipykernel)",
   "language": "python",
   "name": "python3"
  },
  "language_info": {
   "codemirror_mode": {
    "name": "ipython",
    "version": 3
   },
   "file_extension": ".py",
   "mimetype": "text/x-python",
   "name": "python",
   "nbconvert_exporter": "python",
   "pygments_lexer": "ipython3",
   "version": "3.11.4"
  }
 },
 "nbformat": 4,
 "nbformat_minor": 5
}
