{
 "cells": [
  {
   "cell_type": "markdown",
   "id": "80f66d13-60f6-45cd-9f62-511687848cc5",
   "metadata": {},
   "source": [
    "# 📊 Data Cleaning and Transformation Project\n",
    "\n",
    "In this project, I cleaned and transformed a raw customer dataset using Python and Pandas. The dataset contained missing values, duplicate entries, and inconsistent formats.\n",
    "\n",
    "## Key steps included:\n",
    "\n",
    "- Importing data using Pandas\n",
    "- Handling missing values with appropriate imputation\n",
    "- Removing duplicates\n",
    "- Converting data types for accurate analysis\n",
    "- Creating new calculated columns for business insights\n",
    "\n",
    "This cleaned dataset was then ready for analysis and dashboard development. My Python scripts ensure data quality, reliability, and clarity for strategic decision-making.\n"
   ]
  },
  {
   "cell_type": "code",
   "execution_count": 5,
   "id": "42465d18-9f4d-46ce-8fee-89aa7cc3d5a0",
   "metadata": {},
   "outputs": [
    {
     "name": "stdout",
     "output_type": "stream",
     "text": [
      "First 5 rows:\n",
      "   customer_id name  age  signup_date subscription_type\n",
      "0         1000    q   12          345                 a\n",
      "1         1001    m   34          234                 g\n",
      "2         1002    q   34          123               NaN\n",
      "3         1003    m   34           12               NaN\n",
      "4         1004    q   34          -99               NaN\n"
     ]
    }
   ],
   "source": [
    "# Data Cleaning and Transformation Example\n",
    "import pandas as pd\n",
    "\n",
    "# Load dataset\n",
    "df = pd.read_csv('D:/customer_data.csv')\n",
    "\n",
    "# View first rows\n",
    "print(\"First 5 rows:\")\n",
    "print(df.head())"
   ]
  },
  {
   "cell_type": "code",
   "execution_count": 6,
   "id": "9a739368-ed92-439f-96b3-e7af464c1edf",
   "metadata": {},
   "outputs": [
    {
     "name": "stdout",
     "output_type": "stream",
     "text": [
      "Data types:\n",
      "customer_id           int64\n",
      "name                 object\n",
      "age                   int64\n",
      "signup_date           int64\n",
      "subscription_type    object\n",
      "dtype: object\n"
     ]
    }
   ],
   "source": [
    "# Check data types\n",
    "print(\"Data types:\")\n",
    "print(df.dtypes)"
   ]
  },
  {
   "cell_type": "code",
   "execution_count": 7,
   "id": "9c92c34a-dfbe-4942-af7c-cb4258577712",
   "metadata": {},
   "outputs": [],
   "source": [
    "# Handle missing values\n",
    "# Example: Fill missing 'age' with median\n",
    "df['age'] = df['age'].fillna(df['age'].median())"
   ]
  },
  {
   "cell_type": "code",
   "execution_count": 8,
   "id": "28f7e0c7-d1ce-466a-9c6c-234ed3132b40",
   "metadata": {},
   "outputs": [],
   "source": [
    "# Remove duplicates\n",
    "df = df.drop_duplicates()"
   ]
  },
  {
   "cell_type": "code",
   "execution_count": 9,
   "id": "2cc285bc-eb3b-4bab-adf3-cb418e1f682b",
   "metadata": {},
   "outputs": [],
   "source": [
    "# Convert date column to datetime\n",
    "df['signup_date'] = pd.to_datetime(df['signup_date'], errors='coerce')"
   ]
  },
  {
   "cell_type": "code",
   "execution_count": 10,
   "id": "96ed4651-4cf1-407e-976c-7f4b702738a5",
   "metadata": {},
   "outputs": [],
   "source": [
    "# Create a new calculated column\n",
    "# Example: Customer tenure in days\n",
    "df['tenure_days'] = (pd.Timestamp.today() - df['signup_date']).dt.days"
   ]
  },
  {
   "cell_type": "code",
   "execution_count": 11,
   "id": "b19161a7-850e-41b3-8efc-be2818609c10",
   "metadata": {},
   "outputs": [
    {
     "name": "stdout",
     "output_type": "stream",
     "text": [
      "Cleaned dataset info:\n",
      "<class 'pandas.core.frame.DataFrame'>\n",
      "RangeIndex: 5 entries, 0 to 4\n",
      "Data columns (total 6 columns):\n",
      " #   Column             Non-Null Count  Dtype         \n",
      "---  ------             --------------  -----         \n",
      " 0   customer_id        5 non-null      int64         \n",
      " 1   name               5 non-null      object        \n",
      " 2   age                5 non-null      int64         \n",
      " 3   signup_date        5 non-null      datetime64[ns]\n",
      " 4   subscription_type  2 non-null      object        \n",
      " 5   tenure_days        5 non-null      int64         \n",
      "dtypes: datetime64[ns](1), int64(3), object(2)\n",
      "memory usage: 372.0+ bytes\n",
      "None\n"
     ]
    }
   ],
   "source": [
    "# Final overview\n",
    "print(\"Cleaned dataset info:\")\n",
    "print(df.info())"
   ]
  },
  {
   "cell_type": "code",
   "execution_count": 12,
   "id": "ca9590a2-3649-4f63-bf18-44c17fd7993f",
   "metadata": {},
   "outputs": [
    {
     "name": "stdout",
     "output_type": "stream",
     "text": [
      "Data cleaning and transformation completed successfully.\n"
     ]
    }
   ],
   "source": [
    "# Save cleaned data\n",
    "df.to_csv('D:/customer_data_cleaned.csv', index=False)\n",
    "\n",
    "print(\"Data cleaning and transformation completed successfully.\")"
   ]
  },
  {
   "cell_type": "code",
   "execution_count": null,
   "id": "d42e4368-f08c-4a59-af94-b6828a2e42cf",
   "metadata": {},
   "outputs": [],
   "source": []
  }
 ],
 "metadata": {
  "kernelspec": {
   "display_name": "Python 3 (ipykernel)",
   "language": "python",
   "name": "python3"
  },
  "language_info": {
   "codemirror_mode": {
    "name": "ipython",
    "version": 3
   },
   "file_extension": ".py",
   "mimetype": "text/x-python",
   "name": "python",
   "nbconvert_exporter": "python",
   "pygments_lexer": "ipython3",
   "version": "3.11.4"
  }
 },
 "nbformat": 4,
 "nbformat_minor": 5
}
